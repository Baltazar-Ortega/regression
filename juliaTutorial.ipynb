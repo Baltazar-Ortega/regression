{
 "cells": [
  {
   "cell_type": "code",
   "execution_count": 1,
   "metadata": {},
   "outputs": [
    {
     "name": "stdout",
     "output_type": "stream",
     "text": [
      "Hello World\n"
     ]
    }
   ],
   "source": [
    "println(\"Hello World\")"
   ]
  },
  {
   "cell_type": "code",
   "execution_count": 2,
   "metadata": {},
   "outputs": [
    {
     "name": "stdout",
     "output_type": "stream",
     "text": [
      "Dog\n"
     ]
    },
    {
     "ename": "MethodError",
     "evalue": "MethodError: Cannot `convert` an object of type String to an object of type Int64\nClosest candidates are:\n  convert(::Type{T<:Number}, !Matched::T<:Number) where T<:Number at number.jl:6\n  convert(::Type{T<:Number}, !Matched::Number) where T<:Number at number.jl:7\n  convert(::Type{T<:Integer}, !Matched::Ptr) where T<:Integer at pointer.jl:23\n  ...",
     "output_type": "error",
     "traceback": [
      "MethodError: Cannot `convert` an object of type String to an object of type Int64\nClosest candidates are:\n  convert(::Type{T<:Number}, !Matched::T<:Number) where T<:Number at number.jl:6\n  convert(::Type{T<:Number}, !Matched::Number) where T<:Number at number.jl:7\n  convert(::Type{T<:Integer}, !Matched::Ptr) where T<:Integer at pointer.jl:23\n  ...",
      "",
      "Stacktrace:",
      " [1] changeNum() at .\\In[2]:9",
      " [2] top-level scope at In[2]:11"
     ]
    }
   ],
   "source": [
    "s = 0\n",
    "s = \"Dog\"\n",
    "\n",
    "println(s)\n",
    "\n",
    "function changeNum()\n",
    "    # Error\n",
    "    x::Int = 10\n",
    "    x = \"Dog\"\n",
    "end\n",
    "\n",
    "changeNum()"
   ]
  },
  {
   "cell_type": "code",
   "execution_count": 3,
   "metadata": {},
   "outputs": [
    {
     "name": "stdout",
     "output_type": "stream",
     "text": [
      "x\n",
      "3\n",
      "1.0\n",
      "1\n"
     ]
    }
   ],
   "source": [
    "c1 = 'A' # characters\n",
    "\n",
    "c2 = Char(120) # utf-8 unicode\n",
    "println(c2) # x\n",
    "\n",
    "# float to integer\n",
    "i1 = UInt8(trunc(3.14))\n",
    "println(i1) # 3\n",
    "\n",
    "f1 = parse(Float64, \"1\")\n",
    "println(f1) # 1.0\n",
    "\n",
    "i2 = parse(Int8, \"1\")\n",
    "println(i2) # 1"
   ]
  },
  {
   "cell_type": "markdown",
   "metadata": {},
   "source": [
    "## Strings"
   ]
  },
  {
   "cell_type": "code",
   "execution_count": 4,
   "metadata": {},
   "outputs": [
    {
     "name": "stdout",
     "output_type": "stream",
     "text": [
      "22\n",
      "J\n",
      "s\n",
      "Just\n",
      "YukiteruAmano\n",
      "Yuno Gasai\n",
      "2 + 3 = 5\n"
     ]
    },
    {
     "data": {
      "text/plain": [
       "\"I\\nhave\\nmany\\nlines\\n\""
      ]
     },
     "execution_count": 4,
     "metadata": {},
     "output_type": "execute_result"
    }
   ],
   "source": [
    "s1 = \"Just some random words\"\n",
    "println(length(s1)) # 24\n",
    "\n",
    "println(s1[1]) # J, el primer indice es 1 en lugar de 0\n",
    "println(s1[end]) # s\n",
    "println(s1[1:4]) # Just, el 4 es inclusivo\n",
    "\n",
    "s2 = string(\"Yukiteru\", \"Amano\") # Create a string\n",
    "println(s2)\n",
    "println(\"Yuno\" * \" Gasai\") # String concatenation\n",
    "\n",
    "i3 = 2\n",
    "i4 = 3\n",
    "# Showing the values of variables\n",
    "println(\"$i3 + $i4 = $(i3 + i4)\")\n",
    "\n",
    "# Multiline STRINGS\n",
    "s3 = \"\"\"\n",
    "I\n",
    "have\n",
    "many\n",
    "lines\n",
    "\"\"\""
   ]
  },
  {
   "cell_type": "markdown",
   "metadata": {},
   "source": [
    "## Conditionals"
   ]
  },
  {
   "cell_type": "code",
   "execution_count": 7,
   "metadata": {},
   "outputs": [
    {
     "name": "stdout",
     "output_type": "stream",
     "text": [
      "You´re in Middle School\n",
      "true || false = true\n",
      "!true = false\n"
     ]
    }
   ],
   "source": [
    "using Printf\n",
    "using Statistics\n",
    "\n",
    "age = 12\n",
    "if age >= 5 && age <= 6\n",
    "    println(\"You´re in Kindergarten\")\n",
    "elseif age >= 7 && age <= 13\n",
    "    println(\"You´re in Middle School\")\n",
    "elseif age >= 14 && age <= 18\n",
    "    println(\"You´re in High School\")\n",
    "else\n",
    "    println(\"Stay Home\")\n",
    "end\n",
    "\n",
    "# terniary operator\n",
    "@printf(\"true || false = %s\\n\", true || false ? \"true\" : \"false\")\n",
    "@printf(\"!true = %s\\n\", !true ? \"true\" : \"false\")"
   ]
  },
  {
   "cell_type": "markdown",
   "metadata": {},
   "source": [
    "## Loops"
   ]
  },
  {
   "cell_type": "code",
   "execution_count": 9,
   "metadata": {},
   "outputs": [
    {
     "name": "stdout",
     "output_type": "stream",
     "text": [
      "2\n",
      "4\n",
      "6\n",
      "8\n",
      "1\n",
      "2\n",
      "3\n",
      "4\n",
      "5\n",
      "Second loop\n",
      "2\n",
      "4\n",
      "6\n",
      "Third loop\n",
      "(1, 2)\n",
      "(1, 4)\n",
      "(1, 6)\n",
      "(1, 8)\n",
      "(1, 10)\n",
      "(2, 2)\n",
      "(2, 4)\n",
      "(2, 6)\n",
      "(2, 8)\n",
      "(2, 10)\n",
      "(3, 2)\n",
      "(3, 4)\n",
      "(3, 6)\n",
      "(3, 8)\n",
      "(3, 10)\n",
      "(4, 2)\n",
      "(4, 4)\n",
      "(4, 6)\n",
      "(4, 8)\n",
      "(4, 10)\n",
      "(5, 2)\n",
      "(5, 4)\n",
      "(5, 6)\n",
      "(5, 8)\n",
      "(5, 10)\n"
     ]
    }
   ],
   "source": [
    "i = 1\n",
    "while i < 20\n",
    "    if (i % 2) == 0\n",
    "        println(i)\n",
    "        # para acceder a variable declarada afuera del while\n",
    "        global i += 1\n",
    "        continue\n",
    "    end\n",
    "    global i += 1\n",
    "    if i >= 10\n",
    "        break\n",
    "    end\n",
    "end\n",
    "\n",
    "#FOR\n",
    "\n",
    "# el 5 es inclusivo\n",
    "for i = 1:5\n",
    "    println(i)\n",
    "end\n",
    "\n",
    "println(\"Second loop\")\n",
    "for i in [2, 4, 6]\n",
    "    println(i)\n",
    "end\n",
    "\n",
    "println(\"Third loop\")\n",
    "\n",
    "            # desde 2, step de 2, hasta 10 (inclusivo)\n",
    "# j está anidado\n",
    "for i = 1:5, j = 2:2:10\n",
    "    println((i, j))\n",
    "end"
   ]
  },
  {
   "cell_type": "markdown",
   "metadata": {},
   "source": [
    "## Arrays"
   ]
  },
  {
   "cell_type": "code",
   "execution_count": 10,
   "metadata": {},
   "outputs": [
    {
     "name": "stdout",
     "output_type": "stream",
     "text": [
      "Int32[0 0; 0 0]Int32[313055536, 0, 313055552, 0, 313055568]1\n",
      "3\n",
      "false\n",
      "2\n",
      "[2, 3]\n",
      "2\n",
      "(3,)\n",
      "3\n",
      "6\n",
      "[1, 8, 9, 2, 3]\n",
      "[1, 2, 3]\n",
      "3\n",
      "1\n",
      "[2, 4, 6]\n",
      "[1, 2, 3]\n",
      "0.0\n",
      "1.0\n",
      "0.0\n"
     ]
    }
   ],
   "source": [
    "a1 = zeros(Int32, 2, 2) # Matriz de 2x2\n",
    "\n",
    "a2 = Array{Int32}(undef, 5) # array de 5 elementos (0)\n",
    "\n",
    "print(a1)\n",
    "print(a2)\n",
    "\n",
    "a3 = Float64[]\n",
    "\n",
    "a4 = [1, 2, 3]\n",
    "\n",
    "println(a4[1]) # 1\n",
    "\n",
    "println(a4[end]) # 3\n",
    "\n",
    "println(5 in a4) # false\n",
    "println(findfirst(isequal(2), a4)) # devuelve el index del primero que cumpla con la condicion\n",
    "\n",
    "f(a) = (a >= 2) ? true : false\n",
    "\n",
    "println(findall(f, a4)) # devuelve los elementos que cumplan con la condicion\n",
    "\n",
    "println(count(f, a4)) # cantidad de elementos que cumplan la condicion\n",
    "\n",
    "\n",
    "a4 = [1, 2, 3]\n",
    "println(size(a4)) # shape de matriz: (3,)\n",
    "println(length(a4)) # 3\n",
    "println(sum(a4)) # 6\n",
    "# Porque 2 a 1 ?\n",
    "splice!(a4, 2:1, [8, 9])  # se modifica el array\n",
    "println(a4)\n",
    "splice!(a4, 2:3) # Quitar indices 2 y 3\n",
    "println(a4)\n",
    "println(maximum(a4)) # 3\n",
    "println(minimum(a4)) # 1\n",
    "println(a4 * 2) # multiplicar cada elemento por 2\n",
    "println(a4) \n",
    "\n",
    "a5 = [1, 3.14, \"Hello\"]\n",
    "\n",
    "# Puedes meter funciones a una lista\n",
    "a6 = [sin, cos, tan]\n",
    "for n in a6\n",
    "    println(n(0))\n",
    "end"
   ]
  },
  {
   "cell_type": "code",
   "execution_count": 11,
   "metadata": {},
   "outputs": [
    {
     "name": "stdout",
     "output_type": "stream",
     "text": [
      "1 2 3 4 5 6 \n",
      "[2, 5]\n",
      "[4, 5, 6]\n",
      "[1, 2, 3, 4, 5]\n",
      "2\n",
      "4\n",
      "6\n",
      "8\n",
      "10\n",
      "[1, 4, 9, 16, 25]\n"
     ]
    },
    {
     "ename": "LoadError",
     "evalue": "syntax: extra token \"de\" after end of expression",
     "output_type": "error",
     "traceback": [
      "syntax: extra token \"de\" after end of expression",
      ""
     ]
    }
   ],
   "source": [
    "# Arrays multidimensionales\n",
    "a7 = [1 2 3; 4 5 6]\n",
    "# n: rows (solo hay 2)\n",
    "# m: columns\n",
    "# El m está anidado\n",
    "for n = 1:2, m = 1:3\n",
    "    @printf(\"%d \", a7[n, m])\n",
    "end\n",
    "println() \n",
    "\n",
    "println(a7[:, 2]) # todas las rows de la columna 2\n",
    "println(a7[2, :]) # todas las columnas de la segunda row\n",
    "a8 = collect(1:5) # Crear array\n",
    "println(a8)\n",
    "\n",
    "# 2 a 10, con step de 2\n",
    "a9 = collect(2:2:10) \n",
    "for n in a9 println(n) end\n",
    "\n",
    "# array comprehension\n",
    "a10 = [n^2 for n in 1:5]\n",
    "println(a10)\n",
    "\n",
    "# Add values to array\n",
    "push!(a10, 36)\n",
    "\n",
    "Creacion de array multidimensional\n",
    "a11 = [n * m for n in 1:5, m in 1:5]\n",
    "println(a11)\n",
    "\n",
    "# Matriz 5x5 con numeros random (entre 0 y 9)\n",
    "a12 = rand(0:9, 5, 5)\n",
    "for n = 1:5\n",
    "    for m = 1:5\n",
    "        print(\"$(a12[n, m]) \")\n",
    "    end\n",
    "    println()\n",
    "end"
   ]
  },
  {
   "cell_type": "markdown",
   "metadata": {},
   "source": [
    "## Tuplas"
   ]
  },
  {
   "cell_type": "code",
   "execution_count": 12,
   "metadata": {},
   "outputs": [
    {
     "name": "stdout",
     "output_type": "stream",
     "text": [
      "(1, 2, 3, 4)\n",
      "1\n",
      "\n",
      "1\n",
      "2\n",
      "3\n",
      "4\n",
      "\n",
      "1\n",
      "(\"Sue\", 100)\n"
     ]
    }
   ],
   "source": [
    "# Tuples (son inmutables)\n",
    "\n",
    "t1 = (1, 2, 3, 4)\n",
    "println(t1)\n",
    "println(t1[1])\n",
    "println()\n",
    "\n",
    "for i in t1\n",
    "    println(i)\n",
    "end\n",
    "\n",
    "println()\n",
    "\n",
    "# multidimensional Tuples\n",
    "t2 = ((1, 2), (3, 4))\n",
    "println(t2[1][1])\n",
    "\n",
    "# Named tuples\n",
    "t3 = (sue = (\"Sue\", 100), paul = (\"Paul\", 23))\n",
    "println(t3.sue)"
   ]
  },
  {
   "cell_type": "markdown",
   "metadata": {},
   "source": [
    "## Diccionarios"
   ]
  },
  {
   "cell_type": "code",
   "execution_count": 13,
   "metadata": {},
   "outputs": [
    {
     "name": "stdout",
     "output_type": "stream",
     "text": [
      "3.14\n",
      "Dict(\"golden\" => 1.618,\"e\" => 2.718)\n",
      "false\n",
      "\n",
      "false\n",
      "[\"golden\", \"e\"]\n",
      "[1.618, 2.718]\n",
      "\n",
      "\"golden\" => 1.618\n",
      "\"e\" => 2.718\n",
      "\n",
      "golden : 1.618\n",
      "e : 2.718\n"
     ]
    }
   ],
   "source": [
    "d1 = Dict(\"pi\" => 3.14, \"e\" => 2.718)\n",
    "println(d1[\"pi\"]) # 3.14\n",
    "\n",
    "# Agregar nuevo key-value pair \n",
    "d1[\"golden\"] = 1.618\n",
    "\n",
    "delete!(d1, \"pi\") # borrar key-value pair\n",
    "println(d1)\n",
    "\n",
    "println(haskey(d1, \"pi\")) # false\n",
    "println()\n",
    "\n",
    "# comprobar si está un key-value pair\n",
    "println(in(\"pi\" => 3.14, d1))  # false\n",
    "\n",
    "# Ver keys\n",
    "println(keys(d1))\n",
    "# Ver values\n",
    "println(values(d1))\n",
    "\n",
    "println()\n",
    "for kv in d1\n",
    "    println(kv)\n",
    "end\n",
    "\n",
    "println()\n",
    "for (key, value) in d1\n",
    "    println(key, \" : \", value)\n",
    "end"
   ]
  },
  {
   "cell_type": "markdown",
   "metadata": {},
   "source": [
    "## Sets"
   ]
  },
  {
   "cell_type": "code",
   "execution_count": 14,
   "metadata": {},
   "outputs": [
    {
     "name": "stdout",
     "output_type": "stream",
     "text": [
      "Set([\"Pam\", \"Jim\"])\n",
      "false\n",
      "Set([\"Pam\", \"Stanley\", \"Jim\", \"Michael\", \"Meredith\"])\n",
      "Set(String[])\n",
      "Set([\"Pam\", \"Jim\", \"Michael\"])\n"
     ]
    }
   ],
   "source": [
    "st1 = Set([\"Jim\", \"Pam\", \"Jim\"])\n",
    "println(st1) # Set([\"Pam\", \"Jim\"])\n",
    "\n",
    "push!(st1, \"Michael\")\n",
    "println(in(\"Dwight\", st1)) # false\n",
    "\n",
    "st2 = Set([\"Stanley\", \"Meredith\"]) \n",
    "# Set([\"Pam\", \"Stanley\", \"Jim\", \"Michael\", \"Meredith\"])\n",
    "println(union(st1, st2))\n",
    "\n",
    "println(intersect(st1, st2)) # nothing\n",
    "println(setdiff(st1, st2)) # Set([\"Pam\", \"Jim\", \"Michael\"])"
   ]
  },
  {
   "cell_type": "markdown",
   "metadata": {},
   "source": [
    "## Funcion"
   ]
  },
  {
   "cell_type": "code",
   "execution_count": 15,
   "metadata": {},
   "outputs": [
    {
     "name": "stdout",
     "output_type": "stream",
     "text": [
      "1 + 2 = 3\n",
      "Can Vote\n",
      "5\n",
      "10\n",
      "15\n",
      "(5, 6)\n",
      "18\n",
      "5 + 4 = 9\n",
      "5 + 4 = 9\n",
      "[1, 4, 9]\n",
      "[4, 6]\n",
      "5050\n",
      "string\n"
     ]
    }
   ],
   "source": [
    "# Expression function\n",
    "getSum(x, y) = x + y\n",
    "x, y = 1, 2\n",
    "\n",
    "@printf(\"%d + %d = %d\\n\", x, y, getSum(x, y))\n",
    "\n",
    "\n",
    "# Mutable expression FUNCTIONS\n",
    "\n",
    "function canIVote(age = 16)\n",
    "    if age > 18\n",
    "        println(\"Can Vote\")\n",
    "    else\n",
    "        println(\"Can´t Vote\")\n",
    "    end\n",
    "end\n",
    "\n",
    "canIVote(43)\n",
    "\n",
    "v1 = 5\n",
    "function changeV1(v1)\n",
    "    v1 = 10\n",
    "end\n",
    "\n",
    "changeV1(v1)\n",
    "println(v1) # v1 obviamente no cambia\n",
    "\n",
    "\n",
    "v1 = 5\n",
    "function changeV1()\n",
    "    global v1 = 10\n",
    "end\n",
    "\n",
    "changeV1()\n",
    "println(v1) # v1 obviamente no cambia\n",
    "\n",
    "# When we dont know the number of arguments\n",
    "\n",
    "function getSum2(args...)\n",
    "    sum = 0\n",
    "    for a in args\n",
    "        sum += a\n",
    "    end\n",
    "    println(sum)\n",
    "end\n",
    "\n",
    "getSum2(1, 2, 3, 4, 5)\n",
    "\n",
    "# Puedes retornar varios valores, si los metes en una tupla\n",
    "function next2(val)\n",
    "    return (val + 1, val + 2)\n",
    "end\n",
    "\n",
    "println(next2(4))\n",
    "\n",
    "# Functions that return Functions\n",
    "\n",
    "function makeMultiplier(num)\n",
    "    return function(x) return x * num end\n",
    "end\n",
    "\n",
    "mult3 = makeMultiplier(3)\n",
    "println(mult3(6))\n",
    "\n",
    "function getSum3(num1::Number, num2::Number)\n",
    "    return num1 + num2\n",
    "end\n",
    "\n",
    "function getSum3(num1::String, num2::String)\n",
    "    return parse(Int32, num1) + parse(Int32, num2)\n",
    "end\n",
    "\n",
    "println(\"5 + 4 = \", getSum3(5, 4))\n",
    "println(\"5 + 4 = \", getSum3(\"5\", \"4\"))\n",
    "\n",
    "# Funciones anonimas\n",
    "\n",
    "v2 = map(x -> x * x, [1, 2, 3])\n",
    "println(v2)\n",
    "\n",
    "v3 = map((x, y) -> x + y, [1, 2], [3, 4])\n",
    "println(v3)\n",
    "\n",
    "v4 = reduce(+, 1:100)\n",
    "println(v4)\n",
    "\n",
    "# longest word in a sentence\n",
    "sentence = \"This is a string\"\n",
    "sArray = split(sentence) # convertir a array\n",
    "longest = reduce((x, y) -> length(x) > length(y) ? x : y, sArray)\n",
    "println(longest)"
   ]
  },
  {
   "cell_type": "markdown",
   "metadata": {},
   "source": [
    "## Math Functions"
   ]
  },
  {
   "cell_type": "code",
   "execution_count": 16,
   "metadata": {},
   "outputs": [
    {
     "name": "stdout",
     "output_type": "stream",
     "text": [
      "5 + 4 = 9\n",
      "5 - 4 = 1\n",
      "5 * 4 = 20\n",
      "5 / 4 = 1\n",
      "5 % 4 = 1\n",
      "5 ^ 4 = 625\n",
      "round(3.5) = 4\n",
      "floor(3.5) = 3\n",
      "ceil(3.5) = 4\n",
      "abs(-3.5) = 4\n",
      "sqrt(100) = 10\n",
      "cbrt(100) = 5\n",
      "hypot(90, 90) = 127\n",
      "exp(2) = 7\n",
      "log(100) = 5\n",
      "log2(100) = 7\n",
      "log10(100) = 2\n",
      "25\n",
      "[3, 6, 9]\n"
     ]
    }
   ],
   "source": [
    "@printf(\"5 + 4 = %d\\n\", (5 + 4))\n",
    "@printf(\"5 - 4 = %d\\n\", (5 - 4))\n",
    "@printf(\"5 * 4 = %d\\n\", (5 * 4))\n",
    "@printf(\"5 / 4 = %d\\n\", (5 / 4))\n",
    "println(\"5 % 4 = \", (5 % 4))\n",
    "@printf(\"5 ^ 4 = %d\\n\", (5 ^ 4)) # power \n",
    "\n",
    "@printf(\"round(3.5) = %d\\n\", round(3.5))\n",
    "@printf(\"floor(3.5) = %d\\n\", floor(3.5))\n",
    "@printf(\"ceil(3.5) = %d\\n\", ceil(3.5))\n",
    "@printf(\"abs(-3.5) = %d\\n\", abs(-3.5))\n",
    "@printf(\"sqrt(100) = %d\\n\", sqrt(100))\n",
    "@printf(\"cbrt(100) = %d\\n\", cbrt(100)) # cube root\n",
    "@printf(\"hypot(90, 90) = %d\\n\", hypot(90, 90)) # hipotenusa\n",
    "@printf(\"exp(2) = %d\\n\", exp(2))\n",
    "@printf(\"log(100) = %d\\n\", log(100))\n",
    "@printf(\"log2(100) = %d\\n\", log2(100))\n",
    "@printf(\"log10(100) = %d\\n\", log10(100))\n",
    "\n",
    "# Otra forma de multiplicar\n",
    "x = 5\n",
    "println(5x)\n",
    "\n",
    "a13 = [1, 2, 3]\n",
    "println(a13 * 3)"
   ]
  },
  {
   "cell_type": "markdown",
   "metadata": {},
   "source": [
    "## Enums"
   ]
  },
  {
   "cell_type": "code",
   "execution_count": 17,
   "metadata": {},
   "outputs": [
    {
     "name": "stdout",
     "output_type": "stream",
     "text": [
      "green\n"
     ]
    }
   ],
   "source": [
    "# Lista finita de valores (dias de la semana, 52 card deck)\n",
    "\n",
    "@enum Color begin\n",
    "    red = 1\n",
    "    blue = 2\n",
    "    green = 3\n",
    "end\n",
    "\n",
    "favColor = green::Color\n",
    "println(favColor)"
   ]
  },
  {
   "cell_type": "markdown",
   "metadata": {},
   "source": [
    "## Symbols"
   ]
  },
  {
   "cell_type": "code",
   "execution_count": 18,
   "metadata": {},
   "outputs": [
    {
     "name": "stdout",
     "output_type": "stream",
     "text": [
      "Derek\n",
      "3.14\n"
     ]
    }
   ],
   "source": [
    "# immutable strings and variable-as-data\n",
    "# muy usados como keys en DICTIONARIES\n",
    "\n",
    ":Derek\n",
    "println(:Derek)\n",
    "\n",
    "d2 = Dict(:pi => 3.14, :e => 2.718)\n",
    "println(d2[:pi])"
   ]
  },
  {
   "cell_type": "markdown",
   "metadata": {},
   "source": [
    "## Structs\n"
   ]
  },
  {
   "cell_type": "code",
   "execution_count": 19,
   "metadata": {},
   "outputs": [
    {
     "name": "stdout",
     "output_type": "stream",
     "text": [
      "Bob Smith\n",
      "Bowser says Ruff\n",
      "Muffin says Meow\n"
     ]
    }
   ],
   "source": [
    "# tipo de dato especial.\n",
    "# Solo es data, no tiene metodos\n",
    "# inmutables (ej. no puedes cambiar el name)\n",
    "# The general rule to follow is that structs should be small, simple (one-level)\n",
    "# collections of related properties, that are immutable once created; for anything\n",
    "# else, use a class\n",
    "\n",
    "struct Customer\n",
    "    name::String\n",
    "    balance::Float32\n",
    "    id::Int\n",
    "end\n",
    "\n",
    "bob = Customer(\"Bob Smith\", 10.50, 123)\n",
    "println(bob.name)\n",
    "\n",
    "# Abstract types\n",
    "\n",
    "abstract type Animal end\n",
    "\n",
    "struct Dog <: Animal\n",
    "    name::String\n",
    "    bark::String\n",
    "end \n",
    "\n",
    "struct Cat <: Animal\n",
    "    name::String\n",
    "    meow::String\n",
    "end \n",
    "\n",
    "bowser = Dog(\"Bowser\", \"Ruff\")\n",
    "muffin = Cat(\"Muffin\", \"Meow\")\n",
    "\n",
    "function makeSound(animal::Dog)\n",
    "    println(\"$(animal.name) says $(animal.bark)\")\n",
    "end\n",
    "\n",
    "function makeSound(animal::Cat)\n",
    "    println(\"$(animal.name) says $(animal.meow)\")\n",
    "end\n",
    "\n",
    "makeSound(bowser)\n",
    "makeSound(muffin)"
   ]
  },
  {
   "cell_type": "markdown",
   "metadata": {},
   "source": [
    "## Exception Handling and user input"
   ]
  },
  {
   "cell_type": "code",
   "execution_count": 20,
   "metadata": {},
   "outputs": [
    {
     "name": "stdout",
     "output_type": "stream",
     "text": [
      "enter a number stdin> hola\n",
      "enter another number stdin> hi\n",
      "ArgumentError(\"invalid base 10 digit 'h' in \\\"hola\\\"\")\n",
      "Here is some random text\n",
      "It is great\n",
      "\n",
      "Here is some random text\n",
      "It is great\n"
     ]
    }
   ],
   "source": [
    "print(\"enter a number \")\n",
    "num1 = chomp(readline())\n",
    "print(\"enter another number \")\n",
    "num2 = chomp(readline())\n",
    "\n",
    "try\n",
    "    val = (parse(Int32, num1)) / (parse(Int32, num2))\n",
    "    if (val == Inf) # Inf es infinito\n",
    "        error(\"Can´t divide by Zero\")\n",
    "    else\n",
    "        println(val)\n",
    "    end\n",
    "catch e\n",
    "    println(e)\n",
    "end\n",
    "\n",
    "# FILE IO \n",
    "\n",
    "open(\"random2.txt\", \"w\") do file\n",
    "    write(file, \"Here is some random text\\nIt is great\\n\")\n",
    "end\n",
    "\n",
    "open(\"random2.txt\") do file\n",
    "    data = read(file, String)\n",
    "    println(data)\n",
    "end\n",
    "\n",
    "# Read one line at a time \n",
    "open(\"random2.txt\") do file\n",
    "    for line in eachline(file)\n",
    "        println(line)\n",
    "    end\n",
    "end"
   ]
  },
  {
   "cell_type": "markdown",
   "metadata": {},
   "source": [
    "## Macros"
   ]
  },
  {
   "cell_type": "code",
   "execution_count": 21,
   "metadata": {},
   "outputs": [
    {
     "name": "stdout",
     "output_type": "stream",
     "text": [
      "Hello\n",
      "Hello\n",
      "1\n",
      "2\n",
      "3\n",
      "4\n",
      "5\n",
      "6\n",
      "7\n",
      "8\n",
      "9\n",
      "10\n"
     ]
    }
   ],
   "source": [
    "# MACROS\n",
    "# Generate code for you before a program is run \n",
    "\n",
    "macro doMore(n, exp)\n",
    "    quote\n",
    "        for i = 1:$(esc(n))\n",
    "            $(esc(exp))\n",
    "        end\n",
    "    end\n",
    "end\n",
    "\n",
    "@doMore(2, println(\"Hello\"))\n",
    "\n",
    "# Custom do while\n",
    "\n",
    "macro doWhile(exp)\n",
    "    @assert exp.head == :while\n",
    "    esc(quote\n",
    "        $(exp.args[2])\n",
    "        $exp\n",
    "end)\n",
    "end\n",
    "\n",
    "z = 0\n",
    "@doWhile while z < 10\n",
    "    global z += 1\n",
    "    println(z)\n",
    "end"
   ]
  },
  {
   "cell_type": "code",
   "execution_count": null,
   "metadata": {},
   "outputs": [],
   "source": []
  }
 ],
 "metadata": {
  "kernelspec": {
   "display_name": "Julia 1.2.0",
   "language": "julia",
   "name": "julia-1.2"
  },
  "language_info": {
   "file_extension": ".jl",
   "mimetype": "application/julia",
   "name": "julia",
   "version": "1.2.0"
  }
 },
 "nbformat": 4,
 "nbformat_minor": 4
}
