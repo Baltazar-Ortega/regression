{
 "cells": [
  {
   "cell_type": "code",
   "execution_count": 122,
   "metadata": {},
   "outputs": [
    {
     "name": "stdout",
     "output_type": "stream",
     "text": [
      "Hello World\n"
     ]
    }
   ],
   "source": [
    "println(\"Hello World\")"
   ]
  },
  {
   "cell_type": "code",
   "execution_count": 7,
   "metadata": {},
   "outputs": [
    {
     "name": "stdout",
     "output_type": "stream",
     "text": [
      "Dog\n"
     ]
    },
    {
     "ename": "MethodError",
     "evalue": "MethodError: Cannot `convert` an object of type String to an object of type Int64\nClosest candidates are:\n  convert(::Type{T<:Number}, !Matched::T<:Number) where T<:Number at number.jl:6\n  convert(::Type{T<:Number}, !Matched::Number) where T<:Number at number.jl:7\n  convert(::Type{T<:Integer}, !Matched::Ptr) where T<:Integer at pointer.jl:23\n  ...",
     "output_type": "error",
     "traceback": [
      "MethodError: Cannot `convert` an object of type String to an object of type Int64\nClosest candidates are:\n  convert(::Type{T<:Number}, !Matched::T<:Number) where T<:Number at number.jl:6\n  convert(::Type{T<:Number}, !Matched::Number) where T<:Number at number.jl:7\n  convert(::Type{T<:Integer}, !Matched::Ptr) where T<:Integer at pointer.jl:23\n  ...",
      "",
      "Stacktrace:",
      " [1] changeNum() at .\\In[7]:9",
      " [2] top-level scope at In[7]:11"
     ]
    }
   ],
   "source": [
    "s = 0\n",
    "s = \"Dog\"\n",
    "\n",
    "println(s)\n",
    "\n",
    "function changeNum()\n",
    "    # Error\n",
    "    x::Int = 10\n",
    "    x = \"Dog\"\n",
    "end\n",
    "\n",
    "changeNum()"
   ]
  },
  {
   "cell_type": "code",
   "execution_count": 8,
   "metadata": {},
   "outputs": [
    {
     "name": "stdout",
     "output_type": "stream",
     "text": [
      "x\n",
      "3\n",
      "1.0\n",
      "1\n"
     ]
    }
   ],
   "source": [
    "c1 = 'A' # characters\n",
    "\n",
    "c2 = Char(120) # utf-8 unicode\n",
    "println(c2) # x\n",
    "\n",
    "# float to integer\n",
    "i1 = UInt8(trunc(3.14))\n",
    "println(i1) # 3\n",
    "\n",
    "f1 = parse(Float64, \"1\")\n",
    "println(f1) # 1.0\n",
    "\n",
    "i2 = parse(Int8, \"1\")\n",
    "println(i2) # 1"
   ]
  },
  {
   "cell_type": "markdown",
   "metadata": {},
   "source": [
    "## Strings"
   ]
  },
  {
   "cell_type": "code",
   "execution_count": 9,
   "metadata": {},
   "outputs": [
    {
     "name": "stdout",
     "output_type": "stream",
     "text": [
      "22\n",
      "J\n",
      "s\n",
      "Just\n",
      "YukiteruAmano\n",
      "Yuno Gasai\n",
      "2 + 3 = 5\n"
     ]
    },
    {
     "data": {
      "text/plain": [
       "\"I\\nhave\\nmany\\nlines\\n\""
      ]
     },
     "execution_count": 9,
     "metadata": {},
     "output_type": "execute_result"
    }
   ],
   "source": [
    "s1 = \"Just some random words\"\n",
    "println(length(s1)) # 24\n",
    "\n",
    "println(s1[1]) # J, el primer indice es 1 en lugar de 0\n",
    "println(s1[end]) # s\n",
    "println(s1[1:4]) # Just, el 4 es inclusivo\n",
    "\n",
    "s2 = string(\"Yukiteru\", \"Amano\") # Create a string\n",
    "println(s2)\n",
    "println(\"Yuno\" * \" Gasai\") # String concatenation\n",
    "\n",
    "i3 = 2\n",
    "i4 = 3\n",
    "# Showing the values of variables\n",
    "println(\"$i3 + $i4 = $(i3 + i4)\")\n",
    "\n",
    "# Multiline STRINGS\n",
    "s3 = \"\"\"\n",
    "I\n",
    "have\n",
    "many\n",
    "lines\n",
    "\"\"\""
   ]
  },
  {
   "cell_type": "markdown",
   "metadata": {},
   "source": [
    "## Conditionals"
   ]
  },
  {
   "cell_type": "code",
   "execution_count": 7,
   "metadata": {},
   "outputs": [
    {
     "name": "stdout",
     "output_type": "stream",
     "text": [
      "You´re in Middle School\n",
      "true || false = true\n",
      "!true = false\n"
     ]
    }
   ],
   "source": [
    "using Printf\n",
    "using Statistics\n",
    "\n",
    "age = 12\n",
    "if age >= 5 && age <= 6\n",
    "    println(\"You´re in Kindergarten\")\n",
    "elseif age >= 7 && age <= 13\n",
    "    println(\"You´re in Middle School\")\n",
    "elseif age >= 14 && age <= 18\n",
    "    println(\"You´re in High School\")\n",
    "else\n",
    "    println(\"Stay Home\")\n",
    "end\n",
    "\n",
    "# terniary operator\n",
    "@printf(\"true || false = %s\\n\", true || false ? \"true\" : \"false\")\n",
    "@printf(\"!true = %s\\n\", !true ? \"true\" : \"false\")"
   ]
  },
  {
   "cell_type": "markdown",
   "metadata": {},
   "source": [
    "## Loops"
   ]
  },
  {
   "cell_type": "code",
   "execution_count": 9,
   "metadata": {},
   "outputs": [
    {
     "name": "stdout",
     "output_type": "stream",
     "text": [
      "2\n",
      "4\n",
      "6\n",
      "8\n",
      "1\n",
      "2\n",
      "3\n",
      "4\n",
      "5\n",
      "Second loop\n",
      "2\n",
      "4\n",
      "6\n",
      "Third loop\n",
      "(1, 2)\n",
      "(1, 4)\n",
      "(1, 6)\n",
      "(1, 8)\n",
      "(1, 10)\n",
      "(2, 2)\n",
      "(2, 4)\n",
      "(2, 6)\n",
      "(2, 8)\n",
      "(2, 10)\n",
      "(3, 2)\n",
      "(3, 4)\n",
      "(3, 6)\n",
      "(3, 8)\n",
      "(3, 10)\n",
      "(4, 2)\n",
      "(4, 4)\n",
      "(4, 6)\n",
      "(4, 8)\n",
      "(4, 10)\n",
      "(5, 2)\n",
      "(5, 4)\n",
      "(5, 6)\n",
      "(5, 8)\n",
      "(5, 10)\n"
     ]
    }
   ],
   "source": [
    "i = 1\n",
    "while i < 20\n",
    "    if (i % 2) == 0\n",
    "        println(i)\n",
    "        # para acceder a variable declarada afuera del while\n",
    "        global i += 1\n",
    "        continue\n",
    "    end\n",
    "    global i += 1\n",
    "    if i >= 10\n",
    "        break\n",
    "    end\n",
    "end\n",
    "\n",
    "#FOR\n",
    "\n",
    "# el 5 es inclusivo\n",
    "for i = 1:5\n",
    "    println(i)\n",
    "end\n",
    "\n",
    "println(\"Second loop\")\n",
    "for i in [2, 4, 6]\n",
    "    println(i)\n",
    "end\n",
    "\n",
    "println(\"Third loop\")\n",
    "\n",
    "            # desde 2, step de 2, hasta 10 (inclusivo)\n",
    "# j está anidado\n",
    "for i = 1:5, j = 2:2:10\n",
    "    println((i, j))\n",
    "end"
   ]
  },
  {
   "cell_type": "markdown",
   "metadata": {},
   "source": [
    "## Arrays"
   ]
  },
  {
   "cell_type": "code",
   "execution_count": 10,
   "metadata": {},
   "outputs": [
    {
     "name": "stdout",
     "output_type": "stream",
     "text": [
      "Int32[0 0; 0 0]Int32[313055536, 0, 313055552, 0, 313055568]1\n",
      "3\n",
      "false\n",
      "2\n",
      "[2, 3]\n",
      "2\n",
      "(3,)\n",
      "3\n",
      "6\n",
      "[1, 8, 9, 2, 3]\n",
      "[1, 2, 3]\n",
      "3\n",
      "1\n",
      "[2, 4, 6]\n",
      "[1, 2, 3]\n",
      "0.0\n",
      "1.0\n",
      "0.0\n"
     ]
    }
   ],
   "source": [
    "a1 = zeros(Int32, 2, 2) # Matriz de 2x2\n",
    "\n",
    "a2 = Array{Int32}(undef, 5) # array de 5 elementos (0)\n",
    "\n",
    "print(a1)\n",
    "print(a2)\n",
    "\n",
    "a3 = Float64[]\n",
    "\n",
    "a4 = [1, 2, 3]\n",
    "\n",
    "println(a4[1]) # 1\n",
    "\n",
    "println(a4[end]) # 3\n",
    "\n",
    "println(5 in a4) # false\n",
    "println(findfirst(isequal(2), a4)) # devuelve el index del primero que cumpla con la condicion\n",
    "\n",
    "f(a) = (a >= 2) ? true : false\n",
    "\n",
    "println(findall(f, a4)) # devuelve los elementos que cumplan con la condicion\n",
    "\n",
    "println(count(f, a4)) # cantidad de elementos que cumplan la condicion\n",
    "\n",
    "\n",
    "a4 = [1, 2, 3]\n",
    "println(size(a4)) # shape de matriz: (3,)\n",
    "println(length(a4)) # 3\n",
    "println(sum(a4)) # 6\n",
    "# Porque 2 a 1 ?\n",
    "splice!(a4, 2:1, [8, 9])  # se modifica el array\n",
    "println(a4)\n",
    "splice!(a4, 2:3) # Quitar indices 2 y 3\n",
    "println(a4)\n",
    "println(maximum(a4)) # 3\n",
    "println(minimum(a4)) # 1\n",
    "println(a4 * 2) # multiplicar cada elemento por 2\n",
    "println(a4) \n",
    "\n",
    "a5 = [1, 3.14, \"Hello\"]\n",
    "\n",
    "# Puedes meter funciones a una lista\n",
    "a6 = [sin, cos, tan]\n",
    "for n in a6\n",
    "    println(n(0))\n",
    "end"
   ]
  },
  {
   "cell_type": "code",
   "execution_count": 11,
   "metadata": {},
   "outputs": [
    {
     "name": "stdout",
     "output_type": "stream",
     "text": [
      "1 2 3 4 5 6 \n",
      "[2, 5]\n",
      "[4, 5, 6]\n",
      "[1, 2, 3, 4, 5]\n",
      "2\n",
      "4\n",
      "6\n",
      "8\n",
      "10\n",
      "[1, 4, 9, 16, 25]\n"
     ]
    },
    {
     "ename": "LoadError",
     "evalue": "syntax: extra token \"de\" after end of expression",
     "output_type": "error",
     "traceback": [
      "syntax: extra token \"de\" after end of expression",
      ""
     ]
    }
   ],
   "source": [
    "# Arrays multidimensionales\n",
    "a7 = [1 2 3; 4 5 6]\n",
    "# n: rows (solo hay 2)\n",
    "# m: columns\n",
    "# El m está anidado\n",
    "for n = 1:2, m = 1:3\n",
    "    @printf(\"%d \", a7[n, m])\n",
    "end\n",
    "println() \n",
    "\n",
    "println(a7[:, 2]) # todas las rows de la columna 2\n",
    "println(a7[2, :]) # todas las columnas de la segunda row\n",
    "a8 = collect(1:5) # Crear array\n",
    "println(a8)\n",
    "\n",
    "# 2 a 10, con step de 2\n",
    "a9 = collect(2:2:10) \n",
    "for n in a9 println(n) end\n",
    "\n",
    "# array comprehension\n",
    "a10 = [n^2 for n in 1:5]\n",
    "println(a10)\n",
    "\n",
    "# Add values to array\n",
    "push!(a10, 36)\n",
    "\n",
    "Creacion de array multidimensional\n",
    "a11 = [n * m for n in 1:5, m in 1:5]\n",
    "println(a11)\n",
    "\n",
    "# Matriz 5x5 con numeros random (entre 0 y 9)\n",
    "a12 = rand(0:9, 5, 5)\n",
    "for n = 1:5\n",
    "    for m = 1:5\n",
    "        print(\"$(a12[n, m]) \")\n",
    "    end\n",
    "    println()\n",
    "end"
   ]
  },
  {
   "cell_type": "markdown",
   "metadata": {},
   "source": [
    "## Tuplas"
   ]
  },
  {
   "cell_type": "code",
   "execution_count": 12,
   "metadata": {},
   "outputs": [
    {
     "name": "stdout",
     "output_type": "stream",
     "text": [
      "(1, 2, 3, 4)\n",
      "1\n",
      "\n",
      "1\n",
      "2\n",
      "3\n",
      "4\n",
      "\n",
      "1\n",
      "(\"Sue\", 100)\n"
     ]
    }
   ],
   "source": [
    "# Tuples (son inmutables)\n",
    "\n",
    "t1 = (1, 2, 3, 4)\n",
    "println(t1)\n",
    "println(t1[1])\n",
    "println()\n",
    "\n",
    "for i in t1\n",
    "    println(i)\n",
    "end\n",
    "\n",
    "println()\n",
    "\n",
    "# multidimensional Tuples\n",
    "t2 = ((1, 2), (3, 4))\n",
    "println(t2[1][1])\n",
    "\n",
    "# Named tuples\n",
    "t3 = (sue = (\"Sue\", 100), paul = (\"Paul\", 23))\n",
    "println(t3.sue)"
   ]
  },
  {
   "cell_type": "markdown",
   "metadata": {},
   "source": [
    "## Diccionarios"
   ]
  },
  {
   "cell_type": "code",
   "execution_count": 13,
   "metadata": {},
   "outputs": [
    {
     "name": "stdout",
     "output_type": "stream",
     "text": [
      "3.14\n",
      "Dict(\"golden\" => 1.618,\"e\" => 2.718)\n",
      "false\n",
      "\n",
      "false\n",
      "[\"golden\", \"e\"]\n",
      "[1.618, 2.718]\n",
      "\n",
      "\"golden\" => 1.618\n",
      "\"e\" => 2.718\n",
      "\n",
      "golden : 1.618\n",
      "e : 2.718\n"
     ]
    }
   ],
   "source": [
    "d1 = Dict(\"pi\" => 3.14, \"e\" => 2.718)\n",
    "println(d1[\"pi\"]) # 3.14\n",
    "\n",
    "# Agregar nuevo key-value pair \n",
    "d1[\"golden\"] = 1.618\n",
    "\n",
    "delete!(d1, \"pi\") # borrar key-value pair\n",
    "println(d1)\n",
    "\n",
    "println(haskey(d1, \"pi\")) # false\n",
    "println()\n",
    "\n",
    "# comprobar si está un key-value pair\n",
    "println(in(\"pi\" => 3.14, d1))  # false\n",
    "\n",
    "# Ver keys\n",
    "println(keys(d1))\n",
    "# Ver values\n",
    "println(values(d1))\n",
    "\n",
    "println()\n",
    "for kv in d1\n",
    "    println(kv)\n",
    "end\n",
    "\n",
    "println()\n",
    "for (key, value) in d1\n",
    "    println(key, \" : \", value)\n",
    "end"
   ]
  },
  {
   "cell_type": "markdown",
   "metadata": {},
   "source": [
    "## Sets"
   ]
  },
  {
   "cell_type": "code",
   "execution_count": 14,
   "metadata": {},
   "outputs": [
    {
     "name": "stdout",
     "output_type": "stream",
     "text": [
      "Set([\"Pam\", \"Jim\"])\n",
      "false\n",
      "Set([\"Pam\", \"Stanley\", \"Jim\", \"Michael\", \"Meredith\"])\n",
      "Set(String[])\n",
      "Set([\"Pam\", \"Jim\", \"Michael\"])\n"
     ]
    }
   ],
   "source": [
    "st1 = Set([\"Jim\", \"Pam\", \"Jim\"])\n",
    "println(st1) # Set([\"Pam\", \"Jim\"])\n",
    "\n",
    "push!(st1, \"Michael\")\n",
    "println(in(\"Dwight\", st1)) # false\n",
    "\n",
    "st2 = Set([\"Stanley\", \"Meredith\"]) \n",
    "# Set([\"Pam\", \"Stanley\", \"Jim\", \"Michael\", \"Meredith\"])\n",
    "println(union(st1, st2))\n",
    "\n",
    "println(intersect(st1, st2)) # nothing\n",
    "println(setdiff(st1, st2)) # Set([\"Pam\", \"Jim\", \"Michael\"])"
   ]
  },
  {
   "cell_type": "markdown",
   "metadata": {},
   "source": [
    "## Funcion"
   ]
  },
  {
   "cell_type": "code",
   "execution_count": 15,
   "metadata": {},
   "outputs": [
    {
     "name": "stdout",
     "output_type": "stream",
     "text": [
      "1 + 2 = 3\n",
      "Can Vote\n",
      "5\n",
      "10\n",
      "15\n",
      "(5, 6)\n",
      "18\n",
      "5 + 4 = 9\n",
      "5 + 4 = 9\n",
      "[1, 4, 9]\n",
      "[4, 6]\n",
      "5050\n",
      "string\n"
     ]
    }
   ],
   "source": [
    "# Expression function\n",
    "getSum(x, y) = x + y\n",
    "x, y = 1, 2\n",
    "\n",
    "@printf(\"%d + %d = %d\\n\", x, y, getSum(x, y))\n",
    "\n",
    "\n",
    "# Mutable expression FUNCTIONS\n",
    "\n",
    "function canIVote(age = 16)\n",
    "    if age > 18\n",
    "        println(\"Can Vote\")\n",
    "    else\n",
    "        println(\"Can´t Vote\")\n",
    "    end\n",
    "end\n",
    "\n",
    "canIVote(43)\n",
    "\n",
    "v1 = 5\n",
    "function changeV1(v1)\n",
    "    v1 = 10\n",
    "end\n",
    "\n",
    "changeV1(v1)\n",
    "println(v1) # v1 obviamente no cambia\n",
    "\n",
    "\n",
    "v1 = 5\n",
    "function changeV1()\n",
    "    global v1 = 10\n",
    "end\n",
    "\n",
    "changeV1()\n",
    "println(v1) # v1 obviamente no cambia\n",
    "\n",
    "# When we dont know the number of arguments\n",
    "\n",
    "function getSum2(args...)\n",
    "    sum = 0\n",
    "    for a in args\n",
    "        sum += a\n",
    "    end\n",
    "    println(sum)\n",
    "end\n",
    "\n",
    "getSum2(1, 2, 3, 4, 5)\n",
    "\n",
    "# Puedes retornar varios valores, si los metes en una tupla\n",
    "function next2(val)\n",
    "    return (val + 1, val + 2)\n",
    "end\n",
    "\n",
    "println(next2(4))\n",
    "\n",
    "# Functions that return Functions\n",
    "\n",
    "function makeMultiplier(num)\n",
    "    return function(x) return x * num end\n",
    "end\n",
    "\n",
    "mult3 = makeMultiplier(3)\n",
    "println(mult3(6))\n",
    "\n",
    "function getSum3(num1::Number, num2::Number)\n",
    "    return num1 + num2\n",
    "end\n",
    "\n",
    "function getSum3(num1::String, num2::String)\n",
    "    return parse(Int32, num1) + parse(Int32, num2)\n",
    "end\n",
    "\n",
    "println(\"5 + 4 = \", getSum3(5, 4))\n",
    "println(\"5 + 4 = \", getSum3(\"5\", \"4\"))\n",
    "\n",
    "# Funciones anonimas\n",
    "\n",
    "v2 = map(x -> x * x, [1, 2, 3])\n",
    "println(v2)\n",
    "\n",
    "v3 = map((x, y) -> x + y, [1, 2], [3, 4])\n",
    "println(v3)\n",
    "\n",
    "v4 = reduce(+, 1:100)\n",
    "println(v4)\n",
    "\n",
    "# longest word in a sentence\n",
    "sentence = \"This is a string\"\n",
    "sArray = split(sentence) # convertir a array\n",
    "longest = reduce((x, y) -> length(x) > length(y) ? x : y, sArray)\n",
    "println(longest)"
   ]
  },
  {
   "cell_type": "markdown",
   "metadata": {},
   "source": [
    "## Math Functions"
   ]
  },
  {
   "cell_type": "code",
   "execution_count": 16,
   "metadata": {},
   "outputs": [
    {
     "name": "stdout",
     "output_type": "stream",
     "text": [
      "5 + 4 = 9\n",
      "5 - 4 = 1\n",
      "5 * 4 = 20\n",
      "5 / 4 = 1\n",
      "5 % 4 = 1\n",
      "5 ^ 4 = 625\n",
      "round(3.5) = 4\n",
      "floor(3.5) = 3\n",
      "ceil(3.5) = 4\n",
      "abs(-3.5) = 4\n",
      "sqrt(100) = 10\n",
      "cbrt(100) = 5\n",
      "hypot(90, 90) = 127\n",
      "exp(2) = 7\n",
      "log(100) = 5\n",
      "log2(100) = 7\n",
      "log10(100) = 2\n",
      "25\n",
      "[3, 6, 9]\n"
     ]
    }
   ],
   "source": [
    "@printf(\"5 + 4 = %d\\n\", (5 + 4))\n",
    "@printf(\"5 - 4 = %d\\n\", (5 - 4))\n",
    "@printf(\"5 * 4 = %d\\n\", (5 * 4))\n",
    "@printf(\"5 / 4 = %d\\n\", (5 / 4))\n",
    "println(\"5 % 4 = \", (5 % 4))\n",
    "@printf(\"5 ^ 4 = %d\\n\", (5 ^ 4)) # power \n",
    "\n",
    "@printf(\"round(3.5) = %d\\n\", round(3.5))\n",
    "@printf(\"floor(3.5) = %d\\n\", floor(3.5))\n",
    "@printf(\"ceil(3.5) = %d\\n\", ceil(3.5))\n",
    "@printf(\"abs(-3.5) = %d\\n\", abs(-3.5))\n",
    "@printf(\"sqrt(100) = %d\\n\", sqrt(100))\n",
    "@printf(\"cbrt(100) = %d\\n\", cbrt(100)) # cube root\n",
    "@printf(\"hypot(90, 90) = %d\\n\", hypot(90, 90)) # hipotenusa\n",
    "@printf(\"exp(2) = %d\\n\", exp(2))\n",
    "@printf(\"log(100) = %d\\n\", log(100))\n",
    "@printf(\"log2(100) = %d\\n\", log2(100))\n",
    "@printf(\"log10(100) = %d\\n\", log10(100))\n",
    "\n",
    "# Otra forma de multiplicar\n",
    "x = 5\n",
    "println(5x)\n",
    "\n",
    "a13 = [1, 2, 3]\n",
    "println(a13 * 3)"
   ]
  },
  {
   "cell_type": "markdown",
   "metadata": {},
   "source": [
    "## Enums"
   ]
  },
  {
   "cell_type": "code",
   "execution_count": 17,
   "metadata": {},
   "outputs": [
    {
     "name": "stdout",
     "output_type": "stream",
     "text": [
      "green\n"
     ]
    }
   ],
   "source": [
    "# Lista finita de valores (dias de la semana, 52 card deck)\n",
    "\n",
    "@enum Color begin\n",
    "    red = 1\n",
    "    blue = 2\n",
    "    green = 3\n",
    "end\n",
    "\n",
    "favColor = green::Color\n",
    "println(favColor)"
   ]
  },
  {
   "cell_type": "markdown",
   "metadata": {},
   "source": [
    "## Symbols"
   ]
  },
  {
   "cell_type": "code",
   "execution_count": 18,
   "metadata": {},
   "outputs": [
    {
     "name": "stdout",
     "output_type": "stream",
     "text": [
      "Derek\n",
      "3.14\n"
     ]
    }
   ],
   "source": [
    "# immutable strings and variable-as-data\n",
    "# muy usados como keys en DICTIONARIES\n",
    "\n",
    ":Derek\n",
    "println(:Derek)\n",
    "\n",
    "d2 = Dict(:pi => 3.14, :e => 2.718)\n",
    "println(d2[:pi])"
   ]
  },
  {
   "cell_type": "markdown",
   "metadata": {},
   "source": [
    "## Structs\n"
   ]
  },
  {
   "cell_type": "code",
   "execution_count": 19,
   "metadata": {},
   "outputs": [
    {
     "name": "stdout",
     "output_type": "stream",
     "text": [
      "Bob Smith\n",
      "Bowser says Ruff\n",
      "Muffin says Meow\n"
     ]
    }
   ],
   "source": [
    "# tipo de dato especial.\n",
    "# Solo es data, no tiene metodos\n",
    "# inmutables (ej. no puedes cambiar el name)\n",
    "# The general rule to follow is that structs should be small, simple (one-level)\n",
    "# collections of related properties, that are immutable once created; for anything\n",
    "# else, use a class\n",
    "\n",
    "struct Customer\n",
    "    name::String\n",
    "    balance::Float32\n",
    "    id::Int\n",
    "end\n",
    "\n",
    "bob = Customer(\"Bob Smith\", 10.50, 123)\n",
    "println(bob.name)\n",
    "\n",
    "# Abstract types\n",
    "\n",
    "abstract type Animal end\n",
    "\n",
    "struct Dog <: Animal\n",
    "    name::String\n",
    "    bark::String\n",
    "end \n",
    "\n",
    "struct Cat <: Animal\n",
    "    name::String\n",
    "    meow::String\n",
    "end \n",
    "\n",
    "bowser = Dog(\"Bowser\", \"Ruff\")\n",
    "muffin = Cat(\"Muffin\", \"Meow\")\n",
    "\n",
    "function makeSound(animal::Dog)\n",
    "    println(\"$(animal.name) says $(animal.bark)\")\n",
    "end\n",
    "\n",
    "function makeSound(animal::Cat)\n",
    "    println(\"$(animal.name) says $(animal.meow)\")\n",
    "end\n",
    "\n",
    "makeSound(bowser)\n",
    "makeSound(muffin)"
   ]
  },
  {
   "cell_type": "markdown",
   "metadata": {},
   "source": [
    "## Exception Handling and user input"
   ]
  },
  {
   "cell_type": "code",
   "execution_count": 20,
   "metadata": {},
   "outputs": [
    {
     "name": "stdout",
     "output_type": "stream",
     "text": [
      "enter a number stdin> hola\n",
      "enter another number stdin> hi\n",
      "ArgumentError(\"invalid base 10 digit 'h' in \\\"hola\\\"\")\n",
      "Here is some random text\n",
      "It is great\n",
      "\n",
      "Here is some random text\n",
      "It is great\n"
     ]
    }
   ],
   "source": [
    "print(\"enter a number \")\n",
    "num1 = chomp(readline())\n",
    "print(\"enter another number \")\n",
    "num2 = chomp(readline())\n",
    "\n",
    "try\n",
    "    val = (parse(Int32, num1)) / (parse(Int32, num2))\n",
    "    if (val == Inf) # Inf es infinito\n",
    "        error(\"Can´t divide by Zero\")\n",
    "    else\n",
    "        println(val)\n",
    "    end\n",
    "catch e\n",
    "    println(e)\n",
    "end\n",
    "\n",
    "# FILE IO \n",
    "\n",
    "open(\"random2.txt\", \"w\") do file\n",
    "    write(file, \"Here is some random text\\nIt is great\\n\")\n",
    "end\n",
    "\n",
    "open(\"random2.txt\") do file\n",
    "    data = read(file, String)\n",
    "    println(data)\n",
    "end\n",
    "\n",
    "# Read one line at a time \n",
    "open(\"random2.txt\") do file\n",
    "    for line in eachline(file)\n",
    "        println(line)\n",
    "    end\n",
    "end"
   ]
  },
  {
   "cell_type": "markdown",
   "metadata": {},
   "source": [
    "## Macros"
   ]
  },
  {
   "cell_type": "code",
   "execution_count": 1,
   "metadata": {},
   "outputs": [
    {
     "name": "stdout",
     "output_type": "stream",
     "text": [
      "Hello\n",
      "Hello\n",
      "1\n",
      "2\n",
      "3\n",
      "4\n",
      "5\n",
      "6\n",
      "7\n",
      "8\n",
      "9\n",
      "10\n"
     ]
    }
   ],
   "source": [
    "# MACROS\n",
    "# Generate code for you before a program is run \n",
    "\n",
    "macro doMore(n, exp)\n",
    "    quote\n",
    "        for i = 1:$(esc(n))\n",
    "            $(esc(exp))\n",
    "        end\n",
    "    end\n",
    "end\n",
    "\n",
    "@doMore(2, println(\"Hello\"))\n",
    "\n",
    "# Custom do while\n",
    "\n",
    "macro doWhile(exp)\n",
    "    @assert exp.head == :while\n",
    "    esc(quote\n",
    "        $(exp.args[2])\n",
    "        $exp\n",
    "end)\n",
    "end\n",
    "\n",
    "z = 0\n",
    "@doWhile while z < 10\n",
    "    global z += 1\n",
    "    println(z)\n",
    "end"
   ]
  },
  {
   "cell_type": "markdown",
   "metadata": {},
   "source": [
    "Pendientes\n",
    "<ul>\n",
    "    <li>Selecccionar features a usar. Tambien escoger la y (label)</li>\n",
    "    <li>Tener dataframes de train y test con esos features</li>\n",
    "    <li>Probar linear regression y hacer una prediccion. \n",
    "    Asegurarse que tenga sentido</li>\n",
    "    <li>Implementar Elastic Net</li>\n",
    "</ul>"
   ]
  },
  {
   "cell_type": "markdown",
   "metadata": {},
   "source": [
    "## Manejo de matrices con DataFrames"
   ]
  },
  {
   "cell_type": "markdown",
   "metadata": {},
   "source": [
    "### Dataset de videojuegos"
   ]
  },
  {
   "cell_type": "markdown",
   "metadata": {},
   "source": [
    "<strong>Features a utilizar</strong>\n",
    "<ul>\n",
    "    <li>EU_sales (Europe)</li>\n",
    "    <li>Critic Score</li>\n",
    "    <li>User Score</li>\n",
    "    <li>Other sales</li>\n",
    "</ul>\n",
    "<strong>Label: </strong>NA_sales (North America)\n",
    "<p>El objetivo es predecir las ventas en Norte America, segun las features</p>"
   ]
  },
  {
   "cell_type": "code",
   "execution_count": 2,
   "metadata": {},
   "outputs": [
    {
     "name": "stdout",
     "output_type": "stream",
     "text": [
      "Features: [\"NA_Sales\", \"EU_Sales\", \"Other_Sales\", \"Critic_Score\", \"User_Score\"]\n"
     ]
    }
   ],
   "source": [
    "all_features = [\"Id\", \"Name\", \"Platform\", \"Year_of_Release\", \"Genre\",\n",
    "                \"Publisher\", \"NA_Sales\", \"EU_Sales\", \"Other_Sales\",\n",
    "                \"Critic_Score\", \"Critic_Count\", \"User_Score\", \"User_Count\",\n",
    "                 \"Developer\", \"Rating\"]\n",
    "features = [all_features[7], all_features[8], all_features[9], all_features[10], \n",
    "    all_features[12]]\n",
    "println(\"Features: \", features)"
   ]
  },
  {
   "cell_type": "markdown",
   "metadata": {},
   "source": [
    "<p>\n",
    "RECUERDA <br>\n",
    "Los datos de entrenamiento son las features y la label <br>\n",
    "Los datos de test son las features y la label\n",
    "</p>"
   ]
  },
  {
   "cell_type": "code",
   "execution_count": 3,
   "metadata": {},
   "outputs": [
    {
     "data": {
      "text/html": [
       "<table class=\"data-frame\"><thead><tr><th></th><th>NA_Sales</th><th>EU_Sales</th><th>Other_Sales</th><th>Critic_Score</th><th>User_Score</th></tr><tr><th></th><th>Float64</th><th>Float64</th><th>Float64</th><th>Int64⍰</th><th>Float64⍰</th></tr></thead><tbody><p>5 rows × 5 columns</p><tr><th>1</th><td>0.04</td><td>0.0</td><td>0.0</td><td>missing</td><td>missing</td></tr><tr><th>2</th><td>2.3</td><td>1.34</td><td>0.32</td><td>84</td><td>8.1</td></tr><tr><th>3</th><td>0.18</td><td>0.14</td><td>0.05</td><td>53</td><td>6.0</td></tr><tr><th>4</th><td>0.0</td><td>0.0</td><td>0.01</td><td>missing</td><td>missing</td></tr><tr><th>5</th><td>0.0</td><td>0.0</td><td>0.0</td><td>missing</td><td>missing</td></tr></tbody></table>"
      ],
      "text/latex": [
       "\\begin{tabular}{r|ccccc}\n",
       "\t& NA\\_Sales & EU\\_Sales & Other\\_Sales & Critic\\_Score & User\\_Score\\\\\n",
       "\t\\hline\n",
       "\t& Float64 & Float64 & Float64 & Int64⍰ & Float64⍰\\\\\n",
       "\t\\hline\n",
       "\t1 & 0.04 & 0.0 & 0.0 &  &  \\\\\n",
       "\t2 & 2.3 & 1.34 & 0.32 & 84 & 8.1 \\\\\n",
       "\t3 & 0.18 & 0.14 & 0.05 & 53 & 6.0 \\\\\n",
       "\t4 & 0.0 & 0.0 & 0.01 &  &  \\\\\n",
       "\t5 & 0.0 & 0.0 & 0.0 &  &  \\\\\n",
       "\\end{tabular}\n"
      ],
      "text/plain": [
       "5×5 DataFrame\n",
       "│ Row │ NA_Sales │ EU_Sales │ Other_Sales │ Critic_Score │ User_Score │\n",
       "│     │ \u001b[90mFloat64\u001b[39m  │ \u001b[90mFloat64\u001b[39m  │ \u001b[90mFloat64\u001b[39m     │ \u001b[90mInt64⍰\u001b[39m       │ \u001b[90mFloat64⍰\u001b[39m   │\n",
       "├─────┼──────────┼──────────┼─────────────┼──────────────┼────────────┤\n",
       "│ 1   │ 0.04     │ 0.0      │ 0.0         │ \u001b[90mmissing\u001b[39m      │ \u001b[90mmissing\u001b[39m    │\n",
       "│ 2   │ 2.3      │ 1.34     │ 0.32        │ 84           │ 8.1        │\n",
       "│ 3   │ 0.18     │ 0.14     │ 0.05        │ 53           │ 6.0        │\n",
       "│ 4   │ 0.0      │ 0.0      │ 0.01        │ \u001b[90mmissing\u001b[39m      │ \u001b[90mmissing\u001b[39m    │\n",
       "│ 5   │ 0.0      │ 0.0      │ 0.0         │ \u001b[90mmissing\u001b[39m      │ \u001b[90mmissing\u001b[39m    │"
      ]
     },
     "execution_count": 3,
     "metadata": {},
     "output_type": "execute_result"
    }
   ],
   "source": [
    "using CSV\n",
    "using DataFrames\n",
    "train_features_raw = CSV.read(\"datos\\\\train.csv\"; select=features)\n",
    "train_features_raw[1:5, :]"
   ]
  },
  {
   "cell_type": "markdown",
   "metadata": {},
   "source": [
    "<p>\n",
    "Añadir columna de ids\n",
    "</p>"
   ]
  },
  {
   "cell_type": "code",
   "execution_count": 4,
   "metadata": {},
   "outputs": [
    {
     "data": {
      "text/html": [
       "<table class=\"data-frame\"><thead><tr><th></th><th>ids</th><th>NA_Sales</th><th>EU_Sales</th><th>Other_Sales</th><th>Critic_Score</th><th>User_Score</th></tr><tr><th></th><th>Int64</th><th>Float64</th><th>Float64</th><th>Float64</th><th>Int64⍰</th><th>Float64⍰</th></tr></thead><tbody><p>11,703 rows × 6 columns</p><tr><th>1</th><td>1</td><td>0.04</td><td>0.0</td><td>0.0</td><td>missing</td><td>missing</td></tr><tr><th>2</th><td>2</td><td>2.3</td><td>1.34</td><td>0.32</td><td>84</td><td>8.1</td></tr><tr><th>3</th><td>3</td><td>0.18</td><td>0.14</td><td>0.05</td><td>53</td><td>6.0</td></tr><tr><th>4</th><td>4</td><td>0.0</td><td>0.0</td><td>0.01</td><td>missing</td><td>missing</td></tr><tr><th>5</th><td>5</td><td>0.0</td><td>0.0</td><td>0.0</td><td>missing</td><td>missing</td></tr><tr><th>6</th><td>6</td><td>0.02</td><td>0.0</td><td>0.0</td><td>missing</td><td>missing</td></tr><tr><th>7</th><td>7</td><td>0.0</td><td>0.19</td><td>0.01</td><td>69</td><td>7.5</td></tr><tr><th>8</th><td>8</td><td>0.01</td><td>0.04</td><td>0.01</td><td>82</td><td>8.4</td></tr><tr><th>9</th><td>9</td><td>0.67</td><td>0.02</td><td>0.03</td><td>92</td><td>8.3</td></tr><tr><th>10</th><td>10</td><td>0.0</td><td>0.0</td><td>0.04</td><td>missing</td><td>missing</td></tr><tr><th>11</th><td>11</td><td>0.62</td><td>0.56</td><td>0.11</td><td>78</td><td>6.1</td></tr><tr><th>12</th><td>12</td><td>0.0</td><td>0.0</td><td>0.0</td><td>missing</td><td>missing</td></tr><tr><th>13</th><td>13</td><td>0.04</td><td>0.02</td><td>0.01</td><td>43</td><td>6.5</td></tr><tr><th>14</th><td>14</td><td>0.06</td><td>0.05</td><td>0.02</td><td>missing</td><td>6.6</td></tr><tr><th>15</th><td>15</td><td>0.04</td><td>0.03</td><td>0.01</td><td>53</td><td>7.2</td></tr><tr><th>16</th><td>16</td><td>0.06</td><td>0.04</td><td>0.01</td><td>73</td><td>8.2</td></tr><tr><th>17</th><td>17</td><td>0.03</td><td>0.03</td><td>0.01</td><td>79</td><td>8.2</td></tr><tr><th>18</th><td>18</td><td>0.04</td><td>0.03</td><td>0.01</td><td>54</td><td>6.9</td></tr><tr><th>19</th><td>19</td><td>0.26</td><td>0.21</td><td>0.07</td><td>89</td><td>8.4</td></tr><tr><th>20</th><td>20</td><td>0.05</td><td>0.01</td><td>0.01</td><td>missing</td><td>missing</td></tr><tr><th>21</th><td>21</td><td>0.0</td><td>0.0</td><td>0.0</td><td>missing</td><td>missing</td></tr><tr><th>22</th><td>22</td><td>0.73</td><td>0.03</td><td>0.12</td><td>68</td><td>7.2</td></tr><tr><th>23</th><td>23</td><td>0.12</td><td>0.18</td><td>0.03</td><td>70</td><td>6.2</td></tr><tr><th>24</th><td>24</td><td>0.0</td><td>0.02</td><td>0.0</td><td>62</td><td>6.4</td></tr><tr><th>25</th><td>25</td><td>0.95</td><td>0.7</td><td>0.08</td><td>78</td><td>7.9</td></tr><tr><th>26</th><td>26</td><td>0.0</td><td>0.01</td><td>0.0</td><td>missing</td><td>missing</td></tr><tr><th>27</th><td>27</td><td>0.05</td><td>0.0</td><td>0.01</td><td>66</td><td>8.2</td></tr><tr><th>28</th><td>28</td><td>0.22</td><td>0.27</td><td>0.16</td><td>64</td><td>7.1</td></tr><tr><th>29</th><td>29</td><td>1.88</td><td>0.77</td><td>0.27</td><td>78</td><td>4.3</td></tr><tr><th>30</th><td>30</td><td>0.0</td><td>0.0</td><td>0.0</td><td>missing</td><td>missing</td></tr><tr><th>&vellip;</th><td>&vellip;</td><td>&vellip;</td><td>&vellip;</td><td>&vellip;</td><td>&vellip;</td><td>&vellip;</td></tr></tbody></table>"
      ],
      "text/latex": [
       "\\begin{tabular}{r|cccccc}\n",
       "\t& ids & NA\\_Sales & EU\\_Sales & Other\\_Sales & Critic\\_Score & User\\_Score\\\\\n",
       "\t\\hline\n",
       "\t& Int64 & Float64 & Float64 & Float64 & Int64⍰ & Float64⍰\\\\\n",
       "\t\\hline\n",
       "\t1 & 1 & 0.04 & 0.0 & 0.0 &  &  \\\\\n",
       "\t2 & 2 & 2.3 & 1.34 & 0.32 & 84 & 8.1 \\\\\n",
       "\t3 & 3 & 0.18 & 0.14 & 0.05 & 53 & 6.0 \\\\\n",
       "\t4 & 4 & 0.0 & 0.0 & 0.01 &  &  \\\\\n",
       "\t5 & 5 & 0.0 & 0.0 & 0.0 &  &  \\\\\n",
       "\t6 & 6 & 0.02 & 0.0 & 0.0 &  &  \\\\\n",
       "\t7 & 7 & 0.0 & 0.19 & 0.01 & 69 & 7.5 \\\\\n",
       "\t8 & 8 & 0.01 & 0.04 & 0.01 & 82 & 8.4 \\\\\n",
       "\t9 & 9 & 0.67 & 0.02 & 0.03 & 92 & 8.3 \\\\\n",
       "\t10 & 10 & 0.0 & 0.0 & 0.04 &  &  \\\\\n",
       "\t11 & 11 & 0.62 & 0.56 & 0.11 & 78 & 6.1 \\\\\n",
       "\t12 & 12 & 0.0 & 0.0 & 0.0 &  &  \\\\\n",
       "\t13 & 13 & 0.04 & 0.02 & 0.01 & 43 & 6.5 \\\\\n",
       "\t14 & 14 & 0.06 & 0.05 & 0.02 &  & 6.6 \\\\\n",
       "\t15 & 15 & 0.04 & 0.03 & 0.01 & 53 & 7.2 \\\\\n",
       "\t16 & 16 & 0.06 & 0.04 & 0.01 & 73 & 8.2 \\\\\n",
       "\t17 & 17 & 0.03 & 0.03 & 0.01 & 79 & 8.2 \\\\\n",
       "\t18 & 18 & 0.04 & 0.03 & 0.01 & 54 & 6.9 \\\\\n",
       "\t19 & 19 & 0.26 & 0.21 & 0.07 & 89 & 8.4 \\\\\n",
       "\t20 & 20 & 0.05 & 0.01 & 0.01 &  &  \\\\\n",
       "\t21 & 21 & 0.0 & 0.0 & 0.0 &  &  \\\\\n",
       "\t22 & 22 & 0.73 & 0.03 & 0.12 & 68 & 7.2 \\\\\n",
       "\t23 & 23 & 0.12 & 0.18 & 0.03 & 70 & 6.2 \\\\\n",
       "\t24 & 24 & 0.0 & 0.02 & 0.0 & 62 & 6.4 \\\\\n",
       "\t25 & 25 & 0.95 & 0.7 & 0.08 & 78 & 7.9 \\\\\n",
       "\t26 & 26 & 0.0 & 0.01 & 0.0 &  &  \\\\\n",
       "\t27 & 27 & 0.05 & 0.0 & 0.01 & 66 & 8.2 \\\\\n",
       "\t28 & 28 & 0.22 & 0.27 & 0.16 & 64 & 7.1 \\\\\n",
       "\t29 & 29 & 1.88 & 0.77 & 0.27 & 78 & 4.3 \\\\\n",
       "\t30 & 30 & 0.0 & 0.0 & 0.0 &  &  \\\\\n",
       "\t$\\dots$ & $\\dots$ & $\\dots$ & $\\dots$ & $\\dots$ & $\\dots$ & $\\dots$ \\\\\n",
       "\\end{tabular}\n"
      ],
      "text/plain": [
       "11703×6 DataFrame. Omitted printing of 1 columns\n",
       "│ Row   │ ids   │ NA_Sales │ EU_Sales │ Other_Sales │ Critic_Score │\n",
       "│       │ \u001b[90mInt64\u001b[39m │ \u001b[90mFloat64\u001b[39m  │ \u001b[90mFloat64\u001b[39m  │ \u001b[90mFloat64\u001b[39m     │ \u001b[90mInt64⍰\u001b[39m       │\n",
       "├───────┼───────┼──────────┼──────────┼─────────────┼──────────────┤\n",
       "│ 1     │ 1     │ 0.04     │ 0.0      │ 0.0         │ \u001b[90mmissing\u001b[39m      │\n",
       "│ 2     │ 2     │ 2.3      │ 1.34     │ 0.32        │ 84           │\n",
       "│ 3     │ 3     │ 0.18     │ 0.14     │ 0.05        │ 53           │\n",
       "│ 4     │ 4     │ 0.0      │ 0.0      │ 0.01        │ \u001b[90mmissing\u001b[39m      │\n",
       "│ 5     │ 5     │ 0.0      │ 0.0      │ 0.0         │ \u001b[90mmissing\u001b[39m      │\n",
       "│ 6     │ 6     │ 0.02     │ 0.0      │ 0.0         │ \u001b[90mmissing\u001b[39m      │\n",
       "│ 7     │ 7     │ 0.0      │ 0.19     │ 0.01        │ 69           │\n",
       "│ 8     │ 8     │ 0.01     │ 0.04     │ 0.01        │ 82           │\n",
       "│ 9     │ 9     │ 0.67     │ 0.02     │ 0.03        │ 92           │\n",
       "│ 10    │ 10    │ 0.0      │ 0.0      │ 0.04        │ \u001b[90mmissing\u001b[39m      │\n",
       "⋮\n",
       "│ 11693 │ 11693 │ 1.48     │ 0.39     │ 0.06        │ \u001b[90mmissing\u001b[39m      │\n",
       "│ 11694 │ 11694 │ 0.18     │ 0.05     │ 0.01        │ 75           │\n",
       "│ 11695 │ 11695 │ 0.0      │ 0.02     │ 0.0         │ 85           │\n",
       "│ 11696 │ 11696 │ 0.19     │ 0.15     │ 0.05        │ 79           │\n",
       "│ 11697 │ 11697 │ 0.04     │ 0.01     │ 0.0         │ 65           │\n",
       "│ 11698 │ 11698 │ 0.0      │ 0.0      │ 0.0         │ \u001b[90mmissing\u001b[39m      │\n",
       "│ 11699 │ 11699 │ 9.7      │ 3.68     │ 1.13        │ 87           │\n",
       "│ 11700 │ 11700 │ 0.64     │ 0.57     │ 0.22        │ 83           │\n",
       "│ 11701 │ 11701 │ 0.15     │ 0.0      │ 0.01        │ 37           │\n",
       "│ 11702 │ 11702 │ 0.0      │ 0.0      │ 0.0         │ \u001b[90mmissing\u001b[39m      │\n",
       "│ 11703 │ 11703 │ 0.11     │ 0.01     │ 0.01        │ 70           │"
      ]
     },
     "execution_count": 4,
     "metadata": {},
     "output_type": "execute_result"
    }
   ],
   "source": [
    "# Añadir columna de ids\n",
    "ids = DataFrame(ids=1:size(train_features_raw, 1))\n",
    "train_features_raw = hcat(ids, train_features_raw)"
   ]
  },
  {
   "cell_type": "code",
   "execution_count": 5,
   "metadata": {},
   "outputs": [
    {
     "data": {
      "text/html": [
       "<table class=\"data-frame\"><thead><tr><th></th><th>ids</th><th>NA_Sales</th><th>EU_Sales</th><th>Other_Sales</th><th>Critic_Score</th><th>User_Score</th></tr><tr><th></th><th>Int64</th><th>Float64</th><th>Float64</th><th>Float64</th><th>Int64</th><th>Float64</th></tr></thead><tbody><p>4,920 rows × 6 columns</p><tr><th>1</th><td>2</td><td>2.3</td><td>1.34</td><td>0.32</td><td>84</td><td>8.1</td></tr><tr><th>2</th><td>3</td><td>0.18</td><td>0.14</td><td>0.05</td><td>53</td><td>6.0</td></tr><tr><th>3</th><td>7</td><td>0.0</td><td>0.19</td><td>0.01</td><td>69</td><td>7.5</td></tr><tr><th>4</th><td>8</td><td>0.01</td><td>0.04</td><td>0.01</td><td>82</td><td>8.4</td></tr><tr><th>5</th><td>9</td><td>0.67</td><td>0.02</td><td>0.03</td><td>92</td><td>8.3</td></tr><tr><th>6</th><td>11</td><td>0.62</td><td>0.56</td><td>0.11</td><td>78</td><td>6.1</td></tr><tr><th>7</th><td>13</td><td>0.04</td><td>0.02</td><td>0.01</td><td>43</td><td>6.5</td></tr><tr><th>8</th><td>15</td><td>0.04</td><td>0.03</td><td>0.01</td><td>53</td><td>7.2</td></tr><tr><th>9</th><td>16</td><td>0.06</td><td>0.04</td><td>0.01</td><td>73</td><td>8.2</td></tr><tr><th>10</th><td>17</td><td>0.03</td><td>0.03</td><td>0.01</td><td>79</td><td>8.2</td></tr><tr><th>11</th><td>18</td><td>0.04</td><td>0.03</td><td>0.01</td><td>54</td><td>6.9</td></tr><tr><th>12</th><td>19</td><td>0.26</td><td>0.21</td><td>0.07</td><td>89</td><td>8.4</td></tr><tr><th>13</th><td>22</td><td>0.73</td><td>0.03</td><td>0.12</td><td>68</td><td>7.2</td></tr><tr><th>14</th><td>23</td><td>0.12</td><td>0.18</td><td>0.03</td><td>70</td><td>6.2</td></tr><tr><th>15</th><td>24</td><td>0.0</td><td>0.02</td><td>0.0</td><td>62</td><td>6.4</td></tr><tr><th>16</th><td>25</td><td>0.95</td><td>0.7</td><td>0.08</td><td>78</td><td>7.9</td></tr><tr><th>17</th><td>27</td><td>0.05</td><td>0.0</td><td>0.01</td><td>66</td><td>8.2</td></tr><tr><th>18</th><td>28</td><td>0.22</td><td>0.27</td><td>0.16</td><td>64</td><td>7.1</td></tr><tr><th>19</th><td>29</td><td>1.88</td><td>0.77</td><td>0.27</td><td>78</td><td>4.3</td></tr><tr><th>20</th><td>31</td><td>1.18</td><td>0.34</td><td>0.1</td><td>89</td><td>8.8</td></tr><tr><th>21</th><td>37</td><td>0.12</td><td>0.09</td><td>0.03</td><td>46</td><td>3.9</td></tr><tr><th>22</th><td>39</td><td>1.21</td><td>0.3</td><td>0.14</td><td>56</td><td>6.7</td></tr><tr><th>23</th><td>40</td><td>0.98</td><td>0.19</td><td>0.05</td><td>89</td><td>8.3</td></tr><tr><th>24</th><td>44</td><td>0.6</td><td>0.47</td><td>0.16</td><td>57</td><td>5.5</td></tr><tr><th>25</th><td>46</td><td>0.08</td><td>1.24</td><td>0.45</td><td>93</td><td>9.0</td></tr><tr><th>26</th><td>48</td><td>1.62</td><td>0.77</td><td>0.14</td><td>94</td><td>8.9</td></tr><tr><th>27</th><td>51</td><td>0.15</td><td>0.02</td><td>0.02</td><td>54</td><td>6.3</td></tr><tr><th>28</th><td>53</td><td>0.05</td><td>0.01</td><td>0.0</td><td>69</td><td>8.8</td></tr><tr><th>29</th><td>54</td><td>0.04</td><td>0.01</td><td>0.0</td><td>61</td><td>9.0</td></tr><tr><th>30</th><td>55</td><td>0.0</td><td>0.01</td><td>0.0</td><td>66</td><td>7.6</td></tr><tr><th>&vellip;</th><td>&vellip;</td><td>&vellip;</td><td>&vellip;</td><td>&vellip;</td><td>&vellip;</td><td>&vellip;</td></tr></tbody></table>"
      ],
      "text/latex": [
       "\\begin{tabular}{r|cccccc}\n",
       "\t& ids & NA\\_Sales & EU\\_Sales & Other\\_Sales & Critic\\_Score & User\\_Score\\\\\n",
       "\t\\hline\n",
       "\t& Int64 & Float64 & Float64 & Float64 & Int64 & Float64\\\\\n",
       "\t\\hline\n",
       "\t1 & 2 & 2.3 & 1.34 & 0.32 & 84 & 8.1 \\\\\n",
       "\t2 & 3 & 0.18 & 0.14 & 0.05 & 53 & 6.0 \\\\\n",
       "\t3 & 7 & 0.0 & 0.19 & 0.01 & 69 & 7.5 \\\\\n",
       "\t4 & 8 & 0.01 & 0.04 & 0.01 & 82 & 8.4 \\\\\n",
       "\t5 & 9 & 0.67 & 0.02 & 0.03 & 92 & 8.3 \\\\\n",
       "\t6 & 11 & 0.62 & 0.56 & 0.11 & 78 & 6.1 \\\\\n",
       "\t7 & 13 & 0.04 & 0.02 & 0.01 & 43 & 6.5 \\\\\n",
       "\t8 & 15 & 0.04 & 0.03 & 0.01 & 53 & 7.2 \\\\\n",
       "\t9 & 16 & 0.06 & 0.04 & 0.01 & 73 & 8.2 \\\\\n",
       "\t10 & 17 & 0.03 & 0.03 & 0.01 & 79 & 8.2 \\\\\n",
       "\t11 & 18 & 0.04 & 0.03 & 0.01 & 54 & 6.9 \\\\\n",
       "\t12 & 19 & 0.26 & 0.21 & 0.07 & 89 & 8.4 \\\\\n",
       "\t13 & 22 & 0.73 & 0.03 & 0.12 & 68 & 7.2 \\\\\n",
       "\t14 & 23 & 0.12 & 0.18 & 0.03 & 70 & 6.2 \\\\\n",
       "\t15 & 24 & 0.0 & 0.02 & 0.0 & 62 & 6.4 \\\\\n",
       "\t16 & 25 & 0.95 & 0.7 & 0.08 & 78 & 7.9 \\\\\n",
       "\t17 & 27 & 0.05 & 0.0 & 0.01 & 66 & 8.2 \\\\\n",
       "\t18 & 28 & 0.22 & 0.27 & 0.16 & 64 & 7.1 \\\\\n",
       "\t19 & 29 & 1.88 & 0.77 & 0.27 & 78 & 4.3 \\\\\n",
       "\t20 & 31 & 1.18 & 0.34 & 0.1 & 89 & 8.8 \\\\\n",
       "\t21 & 37 & 0.12 & 0.09 & 0.03 & 46 & 3.9 \\\\\n",
       "\t22 & 39 & 1.21 & 0.3 & 0.14 & 56 & 6.7 \\\\\n",
       "\t23 & 40 & 0.98 & 0.19 & 0.05 & 89 & 8.3 \\\\\n",
       "\t24 & 44 & 0.6 & 0.47 & 0.16 & 57 & 5.5 \\\\\n",
       "\t25 & 46 & 0.08 & 1.24 & 0.45 & 93 & 9.0 \\\\\n",
       "\t26 & 48 & 1.62 & 0.77 & 0.14 & 94 & 8.9 \\\\\n",
       "\t27 & 51 & 0.15 & 0.02 & 0.02 & 54 & 6.3 \\\\\n",
       "\t28 & 53 & 0.05 & 0.01 & 0.0 & 69 & 8.8 \\\\\n",
       "\t29 & 54 & 0.04 & 0.01 & 0.0 & 61 & 9.0 \\\\\n",
       "\t30 & 55 & 0.0 & 0.01 & 0.0 & 66 & 7.6 \\\\\n",
       "\t$\\dots$ & $\\dots$ & $\\dots$ & $\\dots$ & $\\dots$ & $\\dots$ & $\\dots$ \\\\\n",
       "\\end{tabular}\n"
      ],
      "text/plain": [
       "4920×6 DataFrame\n",
       "│ Row  │ ids   │ NA_Sales │ EU_Sales │ Other_Sales │ Critic_Score │ User_Score │\n",
       "│      │ \u001b[90mInt64\u001b[39m │ \u001b[90mFloat64\u001b[39m  │ \u001b[90mFloat64\u001b[39m  │ \u001b[90mFloat64\u001b[39m     │ \u001b[90mInt64\u001b[39m        │ \u001b[90mFloat64\u001b[39m    │\n",
       "├──────┼───────┼──────────┼──────────┼─────────────┼──────────────┼────────────┤\n",
       "│ 1    │ 2     │ 2.3      │ 1.34     │ 0.32        │ 84           │ 8.1        │\n",
       "│ 2    │ 3     │ 0.18     │ 0.14     │ 0.05        │ 53           │ 6.0        │\n",
       "│ 3    │ 7     │ 0.0      │ 0.19     │ 0.01        │ 69           │ 7.5        │\n",
       "│ 4    │ 8     │ 0.01     │ 0.04     │ 0.01        │ 82           │ 8.4        │\n",
       "│ 5    │ 9     │ 0.67     │ 0.02     │ 0.03        │ 92           │ 8.3        │\n",
       "│ 6    │ 11    │ 0.62     │ 0.56     │ 0.11        │ 78           │ 6.1        │\n",
       "│ 7    │ 13    │ 0.04     │ 0.02     │ 0.01        │ 43           │ 6.5        │\n",
       "│ 8    │ 15    │ 0.04     │ 0.03     │ 0.01        │ 53           │ 7.2        │\n",
       "│ 9    │ 16    │ 0.06     │ 0.04     │ 0.01        │ 73           │ 8.2        │\n",
       "│ 10   │ 17    │ 0.03     │ 0.03     │ 0.01        │ 79           │ 8.2        │\n",
       "⋮\n",
       "│ 4910 │ 11687 │ 0.85     │ 0.66     │ 0.22        │ 55           │ 6.2        │\n",
       "│ 4911 │ 11688 │ 0.03     │ 0.01     │ 0.01        │ 63           │ 7.0        │\n",
       "│ 4912 │ 11689 │ 0.29     │ 0.39     │ 0.16        │ 72           │ 7.1        │\n",
       "│ 4913 │ 11691 │ 0.65     │ 0.0      │ 0.06        │ 68           │ 6.5        │\n",
       "│ 4914 │ 11692 │ 0.0      │ 0.01     │ 0.0         │ 74           │ 8.2        │\n",
       "│ 4915 │ 11694 │ 0.18     │ 0.05     │ 0.01        │ 75           │ 7.8        │\n",
       "│ 4916 │ 11695 │ 0.0      │ 0.02     │ 0.0         │ 85           │ 8.2        │\n",
       "│ 4917 │ 11696 │ 0.19     │ 0.15     │ 0.05        │ 79           │ 7.3        │\n",
       "│ 4918 │ 11697 │ 0.04     │ 0.01     │ 0.0         │ 65           │ 7.6        │\n",
       "│ 4919 │ 11699 │ 9.7      │ 3.68     │ 1.13        │ 87           │ 6.3        │\n",
       "│ 4920 │ 11700 │ 0.64     │ 0.57     │ 0.22        │ 83           │ 7.8        │"
      ]
     },
     "execution_count": 5,
     "metadata": {},
     "output_type": "execute_result"
    }
   ],
   "source": [
    "# Eliminar instancias con datos faltantes\n",
    "\n",
    "using Missings\n",
    "train_features_raw = dropmissing(train_features_raw)\n"
   ]
  },
  {
   "cell_type": "code",
   "execution_count": 6,
   "metadata": {},
   "outputs": [
    {
     "name": "stderr",
     "output_type": "stream",
     "text": [
      "┌ Warning: `getindex(df::DataFrame, col_ind::ColumnIndex)` is deprecated, use `df[!, col_ind]` instead.\n",
      "│   caller = top-level scope at In[6]:1\n",
      "└ @ Core In[6]:1\n",
      "┌ Warning: `getindex(df::DataFrame, col_ind::ColumnIndex)` is deprecated, use `df[!, col_ind]` instead.\n",
      "│   caller = top-level scope at In[6]:2\n",
      "└ @ Core In[6]:2\n"
     ]
    },
    {
     "data": {
      "text/html": [
       "<table class=\"data-frame\"><thead><tr><th></th><th>ids</th><th>NA_Sales</th></tr><tr><th></th><th>Int64</th><th>Float64</th></tr></thead><tbody><p>4,920 rows × 2 columns</p><tr><th>1</th><td>2</td><td>2.3</td></tr><tr><th>2</th><td>3</td><td>0.18</td></tr><tr><th>3</th><td>7</td><td>0.0</td></tr><tr><th>4</th><td>8</td><td>0.01</td></tr><tr><th>5</th><td>9</td><td>0.67</td></tr><tr><th>6</th><td>11</td><td>0.62</td></tr><tr><th>7</th><td>13</td><td>0.04</td></tr><tr><th>8</th><td>15</td><td>0.04</td></tr><tr><th>9</th><td>16</td><td>0.06</td></tr><tr><th>10</th><td>17</td><td>0.03</td></tr><tr><th>11</th><td>18</td><td>0.04</td></tr><tr><th>12</th><td>19</td><td>0.26</td></tr><tr><th>13</th><td>22</td><td>0.73</td></tr><tr><th>14</th><td>23</td><td>0.12</td></tr><tr><th>15</th><td>24</td><td>0.0</td></tr><tr><th>16</th><td>25</td><td>0.95</td></tr><tr><th>17</th><td>27</td><td>0.05</td></tr><tr><th>18</th><td>28</td><td>0.22</td></tr><tr><th>19</th><td>29</td><td>1.88</td></tr><tr><th>20</th><td>31</td><td>1.18</td></tr><tr><th>21</th><td>37</td><td>0.12</td></tr><tr><th>22</th><td>39</td><td>1.21</td></tr><tr><th>23</th><td>40</td><td>0.98</td></tr><tr><th>24</th><td>44</td><td>0.6</td></tr><tr><th>25</th><td>46</td><td>0.08</td></tr><tr><th>26</th><td>48</td><td>1.62</td></tr><tr><th>27</th><td>51</td><td>0.15</td></tr><tr><th>28</th><td>53</td><td>0.05</td></tr><tr><th>29</th><td>54</td><td>0.04</td></tr><tr><th>30</th><td>55</td><td>0.0</td></tr><tr><th>&vellip;</th><td>&vellip;</td><td>&vellip;</td></tr></tbody></table>"
      ],
      "text/latex": [
       "\\begin{tabular}{r|cc}\n",
       "\t& ids & NA\\_Sales\\\\\n",
       "\t\\hline\n",
       "\t& Int64 & Float64\\\\\n",
       "\t\\hline\n",
       "\t1 & 2 & 2.3 \\\\\n",
       "\t2 & 3 & 0.18 \\\\\n",
       "\t3 & 7 & 0.0 \\\\\n",
       "\t4 & 8 & 0.01 \\\\\n",
       "\t5 & 9 & 0.67 \\\\\n",
       "\t6 & 11 & 0.62 \\\\\n",
       "\t7 & 13 & 0.04 \\\\\n",
       "\t8 & 15 & 0.04 \\\\\n",
       "\t9 & 16 & 0.06 \\\\\n",
       "\t10 & 17 & 0.03 \\\\\n",
       "\t11 & 18 & 0.04 \\\\\n",
       "\t12 & 19 & 0.26 \\\\\n",
       "\t13 & 22 & 0.73 \\\\\n",
       "\t14 & 23 & 0.12 \\\\\n",
       "\t15 & 24 & 0.0 \\\\\n",
       "\t16 & 25 & 0.95 \\\\\n",
       "\t17 & 27 & 0.05 \\\\\n",
       "\t18 & 28 & 0.22 \\\\\n",
       "\t19 & 29 & 1.88 \\\\\n",
       "\t20 & 31 & 1.18 \\\\\n",
       "\t21 & 37 & 0.12 \\\\\n",
       "\t22 & 39 & 1.21 \\\\\n",
       "\t23 & 40 & 0.98 \\\\\n",
       "\t24 & 44 & 0.6 \\\\\n",
       "\t25 & 46 & 0.08 \\\\\n",
       "\t26 & 48 & 1.62 \\\\\n",
       "\t27 & 51 & 0.15 \\\\\n",
       "\t28 & 53 & 0.05 \\\\\n",
       "\t29 & 54 & 0.04 \\\\\n",
       "\t30 & 55 & 0.0 \\\\\n",
       "\t$\\dots$ & $\\dots$ & $\\dots$ \\\\\n",
       "\\end{tabular}\n"
      ],
      "text/plain": [
       "4920×2 DataFrame\n",
       "│ Row  │ ids   │ NA_Sales │\n",
       "│      │ \u001b[90mInt64\u001b[39m │ \u001b[90mFloat64\u001b[39m  │\n",
       "├──────┼───────┼──────────┤\n",
       "│ 1    │ 2     │ 2.3      │\n",
       "│ 2    │ 3     │ 0.18     │\n",
       "│ 3    │ 7     │ 0.0      │\n",
       "│ 4    │ 8     │ 0.01     │\n",
       "│ 5    │ 9     │ 0.67     │\n",
       "│ 6    │ 11    │ 0.62     │\n",
       "│ 7    │ 13    │ 0.04     │\n",
       "│ 8    │ 15    │ 0.04     │\n",
       "│ 9    │ 16    │ 0.06     │\n",
       "│ 10   │ 17    │ 0.03     │\n",
       "⋮\n",
       "│ 4910 │ 11687 │ 0.85     │\n",
       "│ 4911 │ 11688 │ 0.03     │\n",
       "│ 4912 │ 11689 │ 0.29     │\n",
       "│ 4913 │ 11691 │ 0.65     │\n",
       "│ 4914 │ 11692 │ 0.0      │\n",
       "│ 4915 │ 11694 │ 0.18     │\n",
       "│ 4916 │ 11695 │ 0.0      │\n",
       "│ 4917 │ 11696 │ 0.19     │\n",
       "│ 4918 │ 11697 │ 0.04     │\n",
       "│ 4919 │ 11699 │ 9.7      │\n",
       "│ 4920 │ 11700 │ 0.64     │"
      ]
     },
     "execution_count": 6,
     "metadata": {},
     "output_type": "execute_result"
    }
   ],
   "source": [
    "new_ids = train_features_raw[:ids]\n",
    "sales = train_features_raw[:NA_Sales]\n",
    "# Label\n",
    "train_label_raw = DataFrame(ids=new_ids, NA_Sales = sales)\n"
   ]
  },
  {
   "cell_type": "markdown",
   "metadata": {},
   "source": [
    "<p>Eliminar instancias donde no se cuenten con las ventas de Norte America</p>"
   ]
  },
  {
   "cell_type": "code",
   "execution_count": 7,
   "metadata": {},
   "outputs": [
    {
     "name": "stderr",
     "output_type": "stream",
     "text": [
      "┌ Warning: `getindex(df::DataFrame, col_ind::ColumnIndex)` is deprecated, use `df[!, col_ind]` instead.\n",
      "│   caller = top-level scope at In[7]:1\n",
      "└ @ Core In[7]:1\n",
      "┌ Warning: `getindex(df::DataFrame, col_ind::ColumnIndex)` is deprecated, use `df[!, col_ind]` instead.\n",
      "│   caller = top-level scope at In[7]:2\n",
      "└ @ Core In[7]:2\n"
     ]
    },
    {
     "data": {
      "text/html": [
       "<table class=\"data-frame\"><thead><tr><th></th><th>ids</th><th>NA_Sales</th></tr><tr><th></th><th>Int64</th><th>Float64</th></tr></thead><tbody><p>4,499 rows × 2 columns</p><tr><th>1</th><td>2</td><td>2.3</td></tr><tr><th>2</th><td>3</td><td>0.18</td></tr><tr><th>3</th><td>8</td><td>0.01</td></tr><tr><th>4</th><td>9</td><td>0.67</td></tr><tr><th>5</th><td>11</td><td>0.62</td></tr><tr><th>6</th><td>13</td><td>0.04</td></tr><tr><th>7</th><td>15</td><td>0.04</td></tr><tr><th>8</th><td>16</td><td>0.06</td></tr><tr><th>9</th><td>17</td><td>0.03</td></tr><tr><th>10</th><td>18</td><td>0.04</td></tr><tr><th>11</th><td>19</td><td>0.26</td></tr><tr><th>12</th><td>22</td><td>0.73</td></tr><tr><th>13</th><td>23</td><td>0.12</td></tr><tr><th>14</th><td>25</td><td>0.95</td></tr><tr><th>15</th><td>27</td><td>0.05</td></tr><tr><th>16</th><td>28</td><td>0.22</td></tr><tr><th>17</th><td>29</td><td>1.88</td></tr><tr><th>18</th><td>31</td><td>1.18</td></tr><tr><th>19</th><td>37</td><td>0.12</td></tr><tr><th>20</th><td>39</td><td>1.21</td></tr><tr><th>21</th><td>40</td><td>0.98</td></tr><tr><th>22</th><td>44</td><td>0.6</td></tr><tr><th>23</th><td>46</td><td>0.08</td></tr><tr><th>24</th><td>48</td><td>1.62</td></tr><tr><th>25</th><td>51</td><td>0.15</td></tr><tr><th>26</th><td>53</td><td>0.05</td></tr><tr><th>27</th><td>54</td><td>0.04</td></tr><tr><th>28</th><td>56</td><td>0.22</td></tr><tr><th>29</th><td>59</td><td>0.42</td></tr><tr><th>30</th><td>62</td><td>0.01</td></tr><tr><th>&vellip;</th><td>&vellip;</td><td>&vellip;</td></tr></tbody></table>"
      ],
      "text/latex": [
       "\\begin{tabular}{r|cc}\n",
       "\t& ids & NA\\_Sales\\\\\n",
       "\t\\hline\n",
       "\t& Int64 & Float64\\\\\n",
       "\t\\hline\n",
       "\t1 & 2 & 2.3 \\\\\n",
       "\t2 & 3 & 0.18 \\\\\n",
       "\t3 & 8 & 0.01 \\\\\n",
       "\t4 & 9 & 0.67 \\\\\n",
       "\t5 & 11 & 0.62 \\\\\n",
       "\t6 & 13 & 0.04 \\\\\n",
       "\t7 & 15 & 0.04 \\\\\n",
       "\t8 & 16 & 0.06 \\\\\n",
       "\t9 & 17 & 0.03 \\\\\n",
       "\t10 & 18 & 0.04 \\\\\n",
       "\t11 & 19 & 0.26 \\\\\n",
       "\t12 & 22 & 0.73 \\\\\n",
       "\t13 & 23 & 0.12 \\\\\n",
       "\t14 & 25 & 0.95 \\\\\n",
       "\t15 & 27 & 0.05 \\\\\n",
       "\t16 & 28 & 0.22 \\\\\n",
       "\t17 & 29 & 1.88 \\\\\n",
       "\t18 & 31 & 1.18 \\\\\n",
       "\t19 & 37 & 0.12 \\\\\n",
       "\t20 & 39 & 1.21 \\\\\n",
       "\t21 & 40 & 0.98 \\\\\n",
       "\t22 & 44 & 0.6 \\\\\n",
       "\t23 & 46 & 0.08 \\\\\n",
       "\t24 & 48 & 1.62 \\\\\n",
       "\t25 & 51 & 0.15 \\\\\n",
       "\t26 & 53 & 0.05 \\\\\n",
       "\t27 & 54 & 0.04 \\\\\n",
       "\t28 & 56 & 0.22 \\\\\n",
       "\t29 & 59 & 0.42 \\\\\n",
       "\t30 & 62 & 0.01 \\\\\n",
       "\t$\\dots$ & $\\dots$ & $\\dots$ \\\\\n",
       "\\end{tabular}\n"
      ],
      "text/plain": [
       "4499×2 DataFrame\n",
       "│ Row  │ ids   │ NA_Sales │\n",
       "│      │ \u001b[90mInt64\u001b[39m │ \u001b[90mFloat64\u001b[39m  │\n",
       "├──────┼───────┼──────────┤\n",
       "│ 1    │ 2     │ 2.3      │\n",
       "│ 2    │ 3     │ 0.18     │\n",
       "│ 3    │ 8     │ 0.01     │\n",
       "│ 4    │ 9     │ 0.67     │\n",
       "│ 5    │ 11    │ 0.62     │\n",
       "│ 6    │ 13    │ 0.04     │\n",
       "│ 7    │ 15    │ 0.04     │\n",
       "│ 8    │ 16    │ 0.06     │\n",
       "│ 9    │ 17    │ 0.03     │\n",
       "│ 10   │ 18    │ 0.04     │\n",
       "⋮\n",
       "│ 4489 │ 11683 │ 0.05     │\n",
       "│ 4490 │ 11686 │ 0.08     │\n",
       "│ 4491 │ 11687 │ 0.85     │\n",
       "│ 4492 │ 11688 │ 0.03     │\n",
       "│ 4493 │ 11689 │ 0.29     │\n",
       "│ 4494 │ 11691 │ 0.65     │\n",
       "│ 4495 │ 11694 │ 0.18     │\n",
       "│ 4496 │ 11696 │ 0.19     │\n",
       "│ 4497 │ 11697 │ 0.04     │\n",
       "│ 4498 │ 11699 │ 9.7      │\n",
       "│ 4499 │ 11700 │ 0.64     │"
      ]
     },
     "execution_count": 7,
     "metadata": {},
     "output_type": "execute_result"
    }
   ],
   "source": [
    "features_raw = train_features_raw[train_features_raw[:NA_Sales].!=0, :]\n",
    "\n",
    "label_raw = train_label_raw[train_label_raw[:NA_Sales].!=0, :]\n"
   ]
  },
  {
   "cell_type": "code",
   "execution_count": 8,
   "metadata": {},
   "outputs": [
    {
     "data": {
      "text/html": [
       "<table class=\"data-frame\"><thead><tr><th></th><th>ids</th><th>EU_Sales</th><th>Other_Sales</th><th>Critic_Score</th><th>User_Score</th></tr><tr><th></th><th>Int64</th><th>Float64</th><th>Float64</th><th>Int64</th><th>Float64</th></tr></thead><tbody><p>4,499 rows × 5 columns</p><tr><th>1</th><td>2</td><td>1.34</td><td>0.32</td><td>84</td><td>8.1</td></tr><tr><th>2</th><td>3</td><td>0.14</td><td>0.05</td><td>53</td><td>6.0</td></tr><tr><th>3</th><td>8</td><td>0.04</td><td>0.01</td><td>82</td><td>8.4</td></tr><tr><th>4</th><td>9</td><td>0.02</td><td>0.03</td><td>92</td><td>8.3</td></tr><tr><th>5</th><td>11</td><td>0.56</td><td>0.11</td><td>78</td><td>6.1</td></tr><tr><th>6</th><td>13</td><td>0.02</td><td>0.01</td><td>43</td><td>6.5</td></tr><tr><th>7</th><td>15</td><td>0.03</td><td>0.01</td><td>53</td><td>7.2</td></tr><tr><th>8</th><td>16</td><td>0.04</td><td>0.01</td><td>73</td><td>8.2</td></tr><tr><th>9</th><td>17</td><td>0.03</td><td>0.01</td><td>79</td><td>8.2</td></tr><tr><th>10</th><td>18</td><td>0.03</td><td>0.01</td><td>54</td><td>6.9</td></tr><tr><th>11</th><td>19</td><td>0.21</td><td>0.07</td><td>89</td><td>8.4</td></tr><tr><th>12</th><td>22</td><td>0.03</td><td>0.12</td><td>68</td><td>7.2</td></tr><tr><th>13</th><td>23</td><td>0.18</td><td>0.03</td><td>70</td><td>6.2</td></tr><tr><th>14</th><td>25</td><td>0.7</td><td>0.08</td><td>78</td><td>7.9</td></tr><tr><th>15</th><td>27</td><td>0.0</td><td>0.01</td><td>66</td><td>8.2</td></tr><tr><th>16</th><td>28</td><td>0.27</td><td>0.16</td><td>64</td><td>7.1</td></tr><tr><th>17</th><td>29</td><td>0.77</td><td>0.27</td><td>78</td><td>4.3</td></tr><tr><th>18</th><td>31</td><td>0.34</td><td>0.1</td><td>89</td><td>8.8</td></tr><tr><th>19</th><td>37</td><td>0.09</td><td>0.03</td><td>46</td><td>3.9</td></tr><tr><th>20</th><td>39</td><td>0.3</td><td>0.14</td><td>56</td><td>6.7</td></tr><tr><th>21</th><td>40</td><td>0.19</td><td>0.05</td><td>89</td><td>8.3</td></tr><tr><th>22</th><td>44</td><td>0.47</td><td>0.16</td><td>57</td><td>5.5</td></tr><tr><th>23</th><td>46</td><td>1.24</td><td>0.45</td><td>93</td><td>9.0</td></tr><tr><th>24</th><td>48</td><td>0.77</td><td>0.14</td><td>94</td><td>8.9</td></tr><tr><th>25</th><td>51</td><td>0.02</td><td>0.02</td><td>54</td><td>6.3</td></tr><tr><th>26</th><td>53</td><td>0.01</td><td>0.0</td><td>69</td><td>8.8</td></tr><tr><th>27</th><td>54</td><td>0.01</td><td>0.0</td><td>61</td><td>9.0</td></tr><tr><th>28</th><td>56</td><td>0.2</td><td>0.05</td><td>72</td><td>7.5</td></tr><tr><th>29</th><td>59</td><td>0.06</td><td>0.02</td><td>86</td><td>7.6</td></tr><tr><th>30</th><td>62</td><td>0.0</td><td>0.0</td><td>56</td><td>3.1</td></tr><tr><th>&vellip;</th><td>&vellip;</td><td>&vellip;</td><td>&vellip;</td><td>&vellip;</td><td>&vellip;</td></tr></tbody></table>"
      ],
      "text/latex": [
       "\\begin{tabular}{r|ccccc}\n",
       "\t& ids & EU\\_Sales & Other\\_Sales & Critic\\_Score & User\\_Score\\\\\n",
       "\t\\hline\n",
       "\t& Int64 & Float64 & Float64 & Int64 & Float64\\\\\n",
       "\t\\hline\n",
       "\t1 & 2 & 1.34 & 0.32 & 84 & 8.1 \\\\\n",
       "\t2 & 3 & 0.14 & 0.05 & 53 & 6.0 \\\\\n",
       "\t3 & 8 & 0.04 & 0.01 & 82 & 8.4 \\\\\n",
       "\t4 & 9 & 0.02 & 0.03 & 92 & 8.3 \\\\\n",
       "\t5 & 11 & 0.56 & 0.11 & 78 & 6.1 \\\\\n",
       "\t6 & 13 & 0.02 & 0.01 & 43 & 6.5 \\\\\n",
       "\t7 & 15 & 0.03 & 0.01 & 53 & 7.2 \\\\\n",
       "\t8 & 16 & 0.04 & 0.01 & 73 & 8.2 \\\\\n",
       "\t9 & 17 & 0.03 & 0.01 & 79 & 8.2 \\\\\n",
       "\t10 & 18 & 0.03 & 0.01 & 54 & 6.9 \\\\\n",
       "\t11 & 19 & 0.21 & 0.07 & 89 & 8.4 \\\\\n",
       "\t12 & 22 & 0.03 & 0.12 & 68 & 7.2 \\\\\n",
       "\t13 & 23 & 0.18 & 0.03 & 70 & 6.2 \\\\\n",
       "\t14 & 25 & 0.7 & 0.08 & 78 & 7.9 \\\\\n",
       "\t15 & 27 & 0.0 & 0.01 & 66 & 8.2 \\\\\n",
       "\t16 & 28 & 0.27 & 0.16 & 64 & 7.1 \\\\\n",
       "\t17 & 29 & 0.77 & 0.27 & 78 & 4.3 \\\\\n",
       "\t18 & 31 & 0.34 & 0.1 & 89 & 8.8 \\\\\n",
       "\t19 & 37 & 0.09 & 0.03 & 46 & 3.9 \\\\\n",
       "\t20 & 39 & 0.3 & 0.14 & 56 & 6.7 \\\\\n",
       "\t21 & 40 & 0.19 & 0.05 & 89 & 8.3 \\\\\n",
       "\t22 & 44 & 0.47 & 0.16 & 57 & 5.5 \\\\\n",
       "\t23 & 46 & 1.24 & 0.45 & 93 & 9.0 \\\\\n",
       "\t24 & 48 & 0.77 & 0.14 & 94 & 8.9 \\\\\n",
       "\t25 & 51 & 0.02 & 0.02 & 54 & 6.3 \\\\\n",
       "\t26 & 53 & 0.01 & 0.0 & 69 & 8.8 \\\\\n",
       "\t27 & 54 & 0.01 & 0.0 & 61 & 9.0 \\\\\n",
       "\t28 & 56 & 0.2 & 0.05 & 72 & 7.5 \\\\\n",
       "\t29 & 59 & 0.06 & 0.02 & 86 & 7.6 \\\\\n",
       "\t30 & 62 & 0.0 & 0.0 & 56 & 3.1 \\\\\n",
       "\t$\\dots$ & $\\dots$ & $\\dots$ & $\\dots$ & $\\dots$ & $\\dots$ \\\\\n",
       "\\end{tabular}\n"
      ],
      "text/plain": [
       "4499×5 DataFrame\n",
       "│ Row  │ ids   │ EU_Sales │ Other_Sales │ Critic_Score │ User_Score │\n",
       "│      │ \u001b[90mInt64\u001b[39m │ \u001b[90mFloat64\u001b[39m  │ \u001b[90mFloat64\u001b[39m     │ \u001b[90mInt64\u001b[39m        │ \u001b[90mFloat64\u001b[39m    │\n",
       "├──────┼───────┼──────────┼─────────────┼──────────────┼────────────┤\n",
       "│ 1    │ 2     │ 1.34     │ 0.32        │ 84           │ 8.1        │\n",
       "│ 2    │ 3     │ 0.14     │ 0.05        │ 53           │ 6.0        │\n",
       "│ 3    │ 8     │ 0.04     │ 0.01        │ 82           │ 8.4        │\n",
       "│ 4    │ 9     │ 0.02     │ 0.03        │ 92           │ 8.3        │\n",
       "│ 5    │ 11    │ 0.56     │ 0.11        │ 78           │ 6.1        │\n",
       "│ 6    │ 13    │ 0.02     │ 0.01        │ 43           │ 6.5        │\n",
       "│ 7    │ 15    │ 0.03     │ 0.01        │ 53           │ 7.2        │\n",
       "│ 8    │ 16    │ 0.04     │ 0.01        │ 73           │ 8.2        │\n",
       "│ 9    │ 17    │ 0.03     │ 0.01        │ 79           │ 8.2        │\n",
       "│ 10   │ 18    │ 0.03     │ 0.01        │ 54           │ 6.9        │\n",
       "⋮\n",
       "│ 4489 │ 11683 │ 0.02     │ 0.0         │ 75           │ 8.4        │\n",
       "│ 4490 │ 11686 │ 0.06     │ 0.02        │ 68           │ 9.0        │\n",
       "│ 4491 │ 11687 │ 0.66     │ 0.22        │ 55           │ 6.2        │\n",
       "│ 4492 │ 11688 │ 0.01     │ 0.01        │ 63           │ 7.0        │\n",
       "│ 4493 │ 11689 │ 0.39     │ 0.16        │ 72           │ 7.1        │\n",
       "│ 4494 │ 11691 │ 0.0      │ 0.06        │ 68           │ 6.5        │\n",
       "│ 4495 │ 11694 │ 0.05     │ 0.01        │ 75           │ 7.8        │\n",
       "│ 4496 │ 11696 │ 0.15     │ 0.05        │ 79           │ 7.3        │\n",
       "│ 4497 │ 11697 │ 0.01     │ 0.0         │ 65           │ 7.6        │\n",
       "│ 4498 │ 11699 │ 3.68     │ 1.13        │ 87           │ 6.3        │\n",
       "│ 4499 │ 11700 │ 0.57     │ 0.22        │ 83           │ 7.8        │"
      ]
     },
     "execution_count": 8,
     "metadata": {},
     "output_type": "execute_result"
    }
   ],
   "source": [
    "features_raw = features_raw[!, Not(:NA_Sales)]"
   ]
  },
  {
   "cell_type": "code",
   "execution_count": 9,
   "metadata": {},
   "outputs": [
    {
     "data": {
      "text/html": [
       "<table class=\"data-frame\"><thead><tr><th></th><th>NA_Sales</th></tr><tr><th></th><th>Float64</th></tr></thead><tbody><p>4,499 rows × 1 columns</p><tr><th>1</th><td>2.3</td></tr><tr><th>2</th><td>0.18</td></tr><tr><th>3</th><td>0.01</td></tr><tr><th>4</th><td>0.67</td></tr><tr><th>5</th><td>0.62</td></tr><tr><th>6</th><td>0.04</td></tr><tr><th>7</th><td>0.04</td></tr><tr><th>8</th><td>0.06</td></tr><tr><th>9</th><td>0.03</td></tr><tr><th>10</th><td>0.04</td></tr><tr><th>11</th><td>0.26</td></tr><tr><th>12</th><td>0.73</td></tr><tr><th>13</th><td>0.12</td></tr><tr><th>14</th><td>0.95</td></tr><tr><th>15</th><td>0.05</td></tr><tr><th>16</th><td>0.22</td></tr><tr><th>17</th><td>1.88</td></tr><tr><th>18</th><td>1.18</td></tr><tr><th>19</th><td>0.12</td></tr><tr><th>20</th><td>1.21</td></tr><tr><th>21</th><td>0.98</td></tr><tr><th>22</th><td>0.6</td></tr><tr><th>23</th><td>0.08</td></tr><tr><th>24</th><td>1.62</td></tr><tr><th>25</th><td>0.15</td></tr><tr><th>26</th><td>0.05</td></tr><tr><th>27</th><td>0.04</td></tr><tr><th>28</th><td>0.22</td></tr><tr><th>29</th><td>0.42</td></tr><tr><th>30</th><td>0.01</td></tr><tr><th>&vellip;</th><td>&vellip;</td></tr></tbody></table>"
      ],
      "text/latex": [
       "\\begin{tabular}{r|c}\n",
       "\t& NA\\_Sales\\\\\n",
       "\t\\hline\n",
       "\t& Float64\\\\\n",
       "\t\\hline\n",
       "\t1 & 2.3 \\\\\n",
       "\t2 & 0.18 \\\\\n",
       "\t3 & 0.01 \\\\\n",
       "\t4 & 0.67 \\\\\n",
       "\t5 & 0.62 \\\\\n",
       "\t6 & 0.04 \\\\\n",
       "\t7 & 0.04 \\\\\n",
       "\t8 & 0.06 \\\\\n",
       "\t9 & 0.03 \\\\\n",
       "\t10 & 0.04 \\\\\n",
       "\t11 & 0.26 \\\\\n",
       "\t12 & 0.73 \\\\\n",
       "\t13 & 0.12 \\\\\n",
       "\t14 & 0.95 \\\\\n",
       "\t15 & 0.05 \\\\\n",
       "\t16 & 0.22 \\\\\n",
       "\t17 & 1.88 \\\\\n",
       "\t18 & 1.18 \\\\\n",
       "\t19 & 0.12 \\\\\n",
       "\t20 & 1.21 \\\\\n",
       "\t21 & 0.98 \\\\\n",
       "\t22 & 0.6 \\\\\n",
       "\t23 & 0.08 \\\\\n",
       "\t24 & 1.62 \\\\\n",
       "\t25 & 0.15 \\\\\n",
       "\t26 & 0.05 \\\\\n",
       "\t27 & 0.04 \\\\\n",
       "\t28 & 0.22 \\\\\n",
       "\t29 & 0.42 \\\\\n",
       "\t30 & 0.01 \\\\\n",
       "\t$\\dots$ & $\\dots$ \\\\\n",
       "\\end{tabular}\n"
      ],
      "text/plain": [
       "4499×1 DataFrame\n",
       "│ Row  │ NA_Sales │\n",
       "│      │ \u001b[90mFloat64\u001b[39m  │\n",
       "├──────┼──────────┤\n",
       "│ 1    │ 2.3      │\n",
       "│ 2    │ 0.18     │\n",
       "│ 3    │ 0.01     │\n",
       "│ 4    │ 0.67     │\n",
       "│ 5    │ 0.62     │\n",
       "│ 6    │ 0.04     │\n",
       "│ 7    │ 0.04     │\n",
       "│ 8    │ 0.06     │\n",
       "│ 9    │ 0.03     │\n",
       "│ 10   │ 0.04     │\n",
       "⋮\n",
       "│ 4489 │ 0.05     │\n",
       "│ 4490 │ 0.08     │\n",
       "│ 4491 │ 0.85     │\n",
       "│ 4492 │ 0.03     │\n",
       "│ 4493 │ 0.29     │\n",
       "│ 4494 │ 0.65     │\n",
       "│ 4495 │ 0.18     │\n",
       "│ 4496 │ 0.19     │\n",
       "│ 4497 │ 0.04     │\n",
       "│ 4498 │ 9.7      │\n",
       "│ 4499 │ 0.64     │"
      ]
     },
     "execution_count": 9,
     "metadata": {},
     "output_type": "execute_result"
    }
   ],
   "source": [
    "# Ya estan emparejados\n",
    "features = features_raw[!, Not(:ids)]\n",
    "labels = label_raw[!, Not(:ids)]"
   ]
  },
  {
   "cell_type": "code",
   "execution_count": 10,
   "metadata": {},
   "outputs": [
    {
     "name": "stdout",
     "output_type": "stream",
     "text": [
      "(4499, 4)\n",
      "(4499, 1)\n"
     ]
    }
   ],
   "source": [
    "println(size(features))\n",
    "println(size(labels))"
   ]
  },
  {
   "cell_type": "code",
   "execution_count": 11,
   "metadata": {},
   "outputs": [
    {
     "data": {
      "text/html": [
       "<table class=\"data-frame\"><thead><tr><th></th><th>EU_Sales</th><th>Other_Sales</th><th>Critic_Score</th><th>User_Score</th></tr><tr><th></th><th>Float64</th><th>Float64</th><th>Int64</th><th>Float64</th></tr></thead><tbody><p>4,499 rows × 4 columns</p><tr><th>1</th><td>1.34</td><td>0.32</td><td>84</td><td>8.1</td></tr><tr><th>2</th><td>0.14</td><td>0.05</td><td>53</td><td>6.0</td></tr><tr><th>3</th><td>0.04</td><td>0.01</td><td>82</td><td>8.4</td></tr><tr><th>4</th><td>0.02</td><td>0.03</td><td>92</td><td>8.3</td></tr><tr><th>5</th><td>0.56</td><td>0.11</td><td>78</td><td>6.1</td></tr><tr><th>6</th><td>0.02</td><td>0.01</td><td>43</td><td>6.5</td></tr><tr><th>7</th><td>0.03</td><td>0.01</td><td>53</td><td>7.2</td></tr><tr><th>8</th><td>0.04</td><td>0.01</td><td>73</td><td>8.2</td></tr><tr><th>9</th><td>0.03</td><td>0.01</td><td>79</td><td>8.2</td></tr><tr><th>10</th><td>0.03</td><td>0.01</td><td>54</td><td>6.9</td></tr><tr><th>11</th><td>0.21</td><td>0.07</td><td>89</td><td>8.4</td></tr><tr><th>12</th><td>0.03</td><td>0.12</td><td>68</td><td>7.2</td></tr><tr><th>13</th><td>0.18</td><td>0.03</td><td>70</td><td>6.2</td></tr><tr><th>14</th><td>0.7</td><td>0.08</td><td>78</td><td>7.9</td></tr><tr><th>15</th><td>0.0</td><td>0.01</td><td>66</td><td>8.2</td></tr><tr><th>16</th><td>0.27</td><td>0.16</td><td>64</td><td>7.1</td></tr><tr><th>17</th><td>0.77</td><td>0.27</td><td>78</td><td>4.3</td></tr><tr><th>18</th><td>0.34</td><td>0.1</td><td>89</td><td>8.8</td></tr><tr><th>19</th><td>0.09</td><td>0.03</td><td>46</td><td>3.9</td></tr><tr><th>20</th><td>0.3</td><td>0.14</td><td>56</td><td>6.7</td></tr><tr><th>21</th><td>0.19</td><td>0.05</td><td>89</td><td>8.3</td></tr><tr><th>22</th><td>0.47</td><td>0.16</td><td>57</td><td>5.5</td></tr><tr><th>23</th><td>1.24</td><td>0.45</td><td>93</td><td>9.0</td></tr><tr><th>24</th><td>0.77</td><td>0.14</td><td>94</td><td>8.9</td></tr><tr><th>25</th><td>0.02</td><td>0.02</td><td>54</td><td>6.3</td></tr><tr><th>26</th><td>0.01</td><td>0.0</td><td>69</td><td>8.8</td></tr><tr><th>27</th><td>0.01</td><td>0.0</td><td>61</td><td>9.0</td></tr><tr><th>28</th><td>0.2</td><td>0.05</td><td>72</td><td>7.5</td></tr><tr><th>29</th><td>0.06</td><td>0.02</td><td>86</td><td>7.6</td></tr><tr><th>30</th><td>0.0</td><td>0.0</td><td>56</td><td>3.1</td></tr><tr><th>&vellip;</th><td>&vellip;</td><td>&vellip;</td><td>&vellip;</td><td>&vellip;</td></tr></tbody></table>"
      ],
      "text/latex": [
       "\\begin{tabular}{r|cccc}\n",
       "\t& EU\\_Sales & Other\\_Sales & Critic\\_Score & User\\_Score\\\\\n",
       "\t\\hline\n",
       "\t& Float64 & Float64 & Int64 & Float64\\\\\n",
       "\t\\hline\n",
       "\t1 & 1.34 & 0.32 & 84 & 8.1 \\\\\n",
       "\t2 & 0.14 & 0.05 & 53 & 6.0 \\\\\n",
       "\t3 & 0.04 & 0.01 & 82 & 8.4 \\\\\n",
       "\t4 & 0.02 & 0.03 & 92 & 8.3 \\\\\n",
       "\t5 & 0.56 & 0.11 & 78 & 6.1 \\\\\n",
       "\t6 & 0.02 & 0.01 & 43 & 6.5 \\\\\n",
       "\t7 & 0.03 & 0.01 & 53 & 7.2 \\\\\n",
       "\t8 & 0.04 & 0.01 & 73 & 8.2 \\\\\n",
       "\t9 & 0.03 & 0.01 & 79 & 8.2 \\\\\n",
       "\t10 & 0.03 & 0.01 & 54 & 6.9 \\\\\n",
       "\t11 & 0.21 & 0.07 & 89 & 8.4 \\\\\n",
       "\t12 & 0.03 & 0.12 & 68 & 7.2 \\\\\n",
       "\t13 & 0.18 & 0.03 & 70 & 6.2 \\\\\n",
       "\t14 & 0.7 & 0.08 & 78 & 7.9 \\\\\n",
       "\t15 & 0.0 & 0.01 & 66 & 8.2 \\\\\n",
       "\t16 & 0.27 & 0.16 & 64 & 7.1 \\\\\n",
       "\t17 & 0.77 & 0.27 & 78 & 4.3 \\\\\n",
       "\t18 & 0.34 & 0.1 & 89 & 8.8 \\\\\n",
       "\t19 & 0.09 & 0.03 & 46 & 3.9 \\\\\n",
       "\t20 & 0.3 & 0.14 & 56 & 6.7 \\\\\n",
       "\t21 & 0.19 & 0.05 & 89 & 8.3 \\\\\n",
       "\t22 & 0.47 & 0.16 & 57 & 5.5 \\\\\n",
       "\t23 & 1.24 & 0.45 & 93 & 9.0 \\\\\n",
       "\t24 & 0.77 & 0.14 & 94 & 8.9 \\\\\n",
       "\t25 & 0.02 & 0.02 & 54 & 6.3 \\\\\n",
       "\t26 & 0.01 & 0.0 & 69 & 8.8 \\\\\n",
       "\t27 & 0.01 & 0.0 & 61 & 9.0 \\\\\n",
       "\t28 & 0.2 & 0.05 & 72 & 7.5 \\\\\n",
       "\t29 & 0.06 & 0.02 & 86 & 7.6 \\\\\n",
       "\t30 & 0.0 & 0.0 & 56 & 3.1 \\\\\n",
       "\t$\\dots$ & $\\dots$ & $\\dots$ & $\\dots$ & $\\dots$ \\\\\n",
       "\\end{tabular}\n"
      ],
      "text/plain": [
       "4499×4 DataFrame\n",
       "│ Row  │ EU_Sales │ Other_Sales │ Critic_Score │ User_Score │\n",
       "│      │ \u001b[90mFloat64\u001b[39m  │ \u001b[90mFloat64\u001b[39m     │ \u001b[90mInt64\u001b[39m        │ \u001b[90mFloat64\u001b[39m    │\n",
       "├──────┼──────────┼─────────────┼──────────────┼────────────┤\n",
       "│ 1    │ 1.34     │ 0.32        │ 84           │ 8.1        │\n",
       "│ 2    │ 0.14     │ 0.05        │ 53           │ 6.0        │\n",
       "│ 3    │ 0.04     │ 0.01        │ 82           │ 8.4        │\n",
       "│ 4    │ 0.02     │ 0.03        │ 92           │ 8.3        │\n",
       "│ 5    │ 0.56     │ 0.11        │ 78           │ 6.1        │\n",
       "│ 6    │ 0.02     │ 0.01        │ 43           │ 6.5        │\n",
       "│ 7    │ 0.03     │ 0.01        │ 53           │ 7.2        │\n",
       "│ 8    │ 0.04     │ 0.01        │ 73           │ 8.2        │\n",
       "│ 9    │ 0.03     │ 0.01        │ 79           │ 8.2        │\n",
       "│ 10   │ 0.03     │ 0.01        │ 54           │ 6.9        │\n",
       "⋮\n",
       "│ 4489 │ 0.02     │ 0.0         │ 75           │ 8.4        │\n",
       "│ 4490 │ 0.06     │ 0.02        │ 68           │ 9.0        │\n",
       "│ 4491 │ 0.66     │ 0.22        │ 55           │ 6.2        │\n",
       "│ 4492 │ 0.01     │ 0.01        │ 63           │ 7.0        │\n",
       "│ 4493 │ 0.39     │ 0.16        │ 72           │ 7.1        │\n",
       "│ 4494 │ 0.0      │ 0.06        │ 68           │ 6.5        │\n",
       "│ 4495 │ 0.05     │ 0.01        │ 75           │ 7.8        │\n",
       "│ 4496 │ 0.15     │ 0.05        │ 79           │ 7.3        │\n",
       "│ 4497 │ 0.01     │ 0.0         │ 65           │ 7.6        │\n",
       "│ 4498 │ 3.68     │ 1.13        │ 87           │ 6.3        │\n",
       "│ 4499 │ 0.57     │ 0.22        │ 83           │ 7.8        │"
      ]
     },
     "execution_count": 11,
     "metadata": {},
     "output_type": "execute_result"
    }
   ],
   "source": [
    "features"
   ]
  },
  {
   "cell_type": "code",
   "execution_count": 12,
   "metadata": {},
   "outputs": [
    {
     "data": {
      "text/plain": [
       "4499-element Array{Float64,1}:\n",
       " 2.3 \n",
       " 0.18\n",
       " 0.01\n",
       " 0.67\n",
       " 0.62\n",
       " 0.04\n",
       " 0.04\n",
       " 0.06\n",
       " 0.03\n",
       " 0.04\n",
       " 0.26\n",
       " 0.73\n",
       " 0.12\n",
       " ⋮   \n",
       " 1.74\n",
       " 0.05\n",
       " 0.08\n",
       " 0.85\n",
       " 0.03\n",
       " 0.29\n",
       " 0.65\n",
       " 0.18\n",
       " 0.19\n",
       " 0.04\n",
       " 9.7 \n",
       " 0.64"
      ]
     },
     "execution_count": 12,
     "metadata": {},
     "output_type": "execute_result"
    }
   ],
   "source": [
    "labels = labels.NA_Sales # Convertir a array"
   ]
  },
  {
   "cell_type": "markdown",
   "metadata": {},
   "source": []
  },
  {
   "cell_type": "markdown",
   "metadata": {},
   "source": [
    "## Regresion Lineal con videojuegos"
   ]
  },
  {
   "cell_type": "markdown",
   "metadata": {},
   "source": [
    "### Funciones de evaluacion"
   ]
  },
  {
   "cell_type": "code",
   "execution_count": 76,
   "metadata": {},
   "outputs": [
    {
     "data": {
      "text/plain": [
       "mse (generic function with 1 method)"
      ]
     },
     "execution_count": 76,
     "metadata": {},
     "output_type": "execute_result"
    }
   ],
   "source": [
    "function prediccion(array, parametros)\n",
    "    suma_pond = 0\n",
    "    for i = 1:length(array)\n",
    "        suma_pond += array[i] * parametros[i]\n",
    "    end\n",
    "    return suma_pond + parametros[end]\n",
    "end\n",
    "\n",
    "# x es una matriz (dataframe)\n",
    "function mse(x, y, n, parametros)\n",
    "    suma = 0\n",
    "    for i = 1:size(x, 1)\n",
    "        y_pred = prediccion(x[i, :], parametros)\n",
    "        suma += ( y[i] - y_pred ) ^ 2\n",
    "    end\n",
    "    return suma / n\n",
    "end"
   ]
  },
  {
   "cell_type": "markdown",
   "metadata": {},
   "source": [
    "### Parámetros"
   ]
  },
  {
   "cell_type": "code",
   "execution_count": 114,
   "metadata": {},
   "outputs": [
    {
     "data": {
      "text/plain": [
       "5-element Array{Int64,1}:\n",
       " 2\n",
       " 3\n",
       " 4\n",
       " 5\n",
       " 4"
      ]
     },
     "execution_count": 114,
     "metadata": {},
     "output_type": "execute_result"
    }
   ],
   "source": [
    "h = 0.01 # pequeño cambio para la derivada (hiperparametro)\n",
    "lr = 0.001 # learning rate (el mejor resultado se obtuvo con 0.0001, pero tarda mucho)\n",
    "\n",
    "# Cantidad de registros\n",
    "n = size(features, 1)\n",
    "\n",
    "# Datos\n",
    "x = features\n",
    "y = labels\n",
    "\n",
    "# Inicializacion de parametros\n",
    "w1 = 2\n",
    "w2 = 3\n",
    "w3 = 4\n",
    "w4 = 5\n",
    "bias = 4\n",
    "parametros = [w1, w2, w3, w4, bias] "
   ]
  },
  {
   "cell_type": "code",
   "execution_count": 116,
   "metadata": {},
   "outputs": [
    {
     "name": "stdout",
     "output_type": "stream",
     "text": [
      "mse actual: 106570.2548116248"
     ]
    }
   ],
   "source": [
    "print(\"mse actual: \", mse(x, y, n, parametros))"
   ]
  },
  {
   "cell_type": "markdown",
   "metadata": {},
   "source": [
    "### Funciones para algoritmo"
   ]
  },
  {
   "cell_type": "code",
   "execution_count": 117,
   "metadata": {},
   "outputs": [
    {
     "data": {
      "text/plain": [
       "paso (generic function with 1 method)"
      ]
     },
     "execution_count": 117,
     "metadata": {},
     "output_type": "execute_result"
    }
   ],
   "source": [
    "function sumar_h(i, j)\n",
    "    if i == j\n",
    "        return h\n",
    "    else\n",
    "        return 0\n",
    "    end\n",
    "end\n",
    "\n",
    "function parcial(i, v)\n",
    "    v2 = Float64[]\n",
    "    for (j, v_i) in enumerate(v)\n",
    "        suma_h_condicionado = v_i + sumar_h(i, j)\n",
    "        append!(v2,  suma_h_condicionado )\n",
    "    end\n",
    "    #println(\"v2: \", v2)\n",
    "    derivada_parcial = ( mse(x, y, n, v2) - mse(x, y, n, v) ) / h\n",
    "    #println(\"derivada parcial: \", derivada_parcial)\n",
    "    return derivada_parcial\n",
    "end\n",
    "\n",
    "function gradiente(v)\n",
    "    return [parcial(i, v) for i in 1:length(v) ]\n",
    "end\n",
    "\n",
    "function distancia(v, w)\n",
    "    return sqrt( sum( (x - y) ^ 2 for (x, y) in zip(v, w) ) )\n",
    "end\n",
    "\n",
    "function paso(v, gradiente)\n",
    "    # se multiplica por learning rate para el cambio no sea brusco y pueda provocar errores\n",
    "    return [param - (lr * grad_i) for (param, grad_i) in zip(v, gradiente) ]\n",
    "end"
   ]
  },
  {
   "cell_type": "code",
   "execution_count": 119,
   "metadata": {},
   "outputs": [
    {
     "name": "stdout",
     "output_type": "stream",
     "text": [
      "iteración:1\n",
      "parametros =[2, 3, 4, 5, 4]\n",
      "iteración:2\n",
      "parametros =[1.8162344763375586, 2.935450272919843, -42.728018219578374, 0.2763116733010973, 3.358517606128589]\n",
      "iteración:3\n",
      "parametros =[3.528941894354648, 3.536802756699035, 393.3839293016165, 44.24167172637099, 9.339129676614538]\n",
      "iteración:4\n",
      "parametros =[-12.457640968976193, -2.07653753766208, -3676.7173554288183, -366.1941123989571, -46.482424853052365]\n",
      "iteración:5\n",
      "parametros =[136.73837343532068, 50.310118651302766, 34308.43550406826, 3464.1719551059255, 474.47872321823667]\n",
      "iteración:6\n",
      "parametros =[-1255.6706109396794, -438.6022836924472, -320196.5842224942, -32283.703728487828, -4387.514636156763]\n",
      "iteración:7\n",
      "parametros =[11739.21688906032, 4124.366466307552, 2.988301715777506e6, 301341.34627151216, 40988.17286384324]\n",
      "iteración:8\n",
      "parametros =[-109539.98311093968, -38482.03353369245, -2.7889006284222495e7, -2.812285853728488e6, -382497.4271361568]\n",
      "iteración:9\n",
      "parametros =[1.0226968168890604e6, 358215.5664663076, 2.6028015851577753e8, 2.6246939746271513e7, 3.5695793728638436e6]\n",
      "iteración:10\n",
      "parametros =[-9.600688783110939e6, -3.4297652335336925e6, -2.4290027086842227e9, -2.4496724265372846e8, -3.334684942713616e7]\n",
      "iteración:11\n",
      "parametros =[8.728773361688906e7, 2.886637556646631e7, 2.267348730091578e10, 2.2716151573462715e9, 3.055529137728638e8]\n",
      "iteración:12\n",
      "parametros =[-8.790799079831109e8, -1.858819892335337e8, -2.1215384960788425e11, -2.151176624425373e10, -3.291482196627136e9]\n",
      "iteración:13\n",
      "parametros =[1.286481543921689e10, 6.6860656843664665e9, 1.9799974582705159e12, 1.9495458547414627e11, 3.794020384497286e10]\n",
      "iteración:14\n",
      "parametros =[1.286481543921689e10, 6.6860656843664665e9, -1.5172383935035084e13, -1.1244593678570537e12, 3.794020384497286e10]\n",
      "iteración:15\n",
      "parametros =[1.286481543921689e10, 6.6860656843664665e9, 1.1149135558476012e14, -1.1244593678570537e12, 3.794020384497286e10]\n",
      "\n",
      "Se alcanza convergencia luego de 16 iteraciones\n",
      "\n",
      "Valor mínimo de la función en:\n",
      " parametros = [1.286481543921689e10, 6.6860656843664665e9, -4.392108271785736e15, -9.018443848419562e14, 3.794020384497286e10]\n"
     ]
    }
   ],
   "source": [
    "convergencia = 0.00000001\n",
    "i = 1\n",
    "while true\n",
    "    grad = gradiente(parametros)\n",
    "    parametros2 = paso(parametros, grad) # hacer un paso encontra de la derivada (ir hacia el minimo global)\n",
    "    if distancia(parametros2, parametros) < convergencia\n",
    "        println(\"\\nSe alcanza convergencia luego de \",i, \" iteraciones\")\n",
    "        println(\"\\nValor mínimo de la función en:\\n parametros = \", parametros)\n",
    "        break\n",
    "    end\n",
    "    if i > 10000\n",
    "        println(\"Salida luego de \",i, \" iteraciones\")\n",
    "        break\n",
    "    end\n",
    "    println(\"iteración:\", i, \"\\n\",\"parametros =\", parametros)\n",
    "    global parametros = parametros2\n",
    "    global i = i + 1\n",
    "end"
   ]
  },
  {
   "cell_type": "markdown",
   "metadata": {},
   "source": [
    "### Prediccion"
   ]
  },
  {
   "cell_type": "code",
   "execution_count": 120,
   "metadata": {},
   "outputs": [
    {
     "data": {
      "text/plain": [
       "-2.3819276463811446e17"
      ]
     },
     "execution_count": 120,
     "metadata": {},
     "output_type": "execute_result"
    }
   ],
   "source": [
    "# 0.14\t0.05\t53\t6.0  respuesta: 0.18\n",
    "ejemplo = [0.14, 0.05, 53, 6.0]\n",
    "prediccion(ejemplo, parametros)"
   ]
  },
  {
   "cell_type": "markdown",
   "metadata": {},
   "source": [
    "### Nuevo error"
   ]
  },
  {
   "cell_type": "code",
   "execution_count": 121,
   "metadata": {},
   "outputs": [
    {
     "name": "stdout",
     "output_type": "stream",
     "text": [
      "mse actual: 1.0276641497778074e35"
     ]
    }
   ],
   "source": [
    "print(\"mse actual: \", mse(x, y, n, parametros))"
   ]
  },
  {
   "cell_type": "markdown",
   "metadata": {},
   "source": [
    "## Normalizacion: Ridge Regression"
   ]
  },
  {
   "cell_type": "markdown",
   "metadata": {},
   "source": [
    "Francisco"
   ]
  },
  {
   "cell_type": "code",
   "execution_count": null,
   "metadata": {},
   "outputs": [],
   "source": []
  },
  {
   "cell_type": "markdown",
   "metadata": {},
   "source": [
    "## Normalizacion: Lasso Regression"
   ]
  },
  {
   "cell_type": "markdown",
   "metadata": {},
   "source": [
    "Eli"
   ]
  },
  {
   "cell_type": "code",
   "execution_count": null,
   "metadata": {},
   "outputs": [],
   "source": []
  },
  {
   "cell_type": "markdown",
   "metadata": {},
   "source": [
    "## Normalizacion: Elastic Net"
   ]
  },
  {
   "cell_type": "code",
   "execution_count": null,
   "metadata": {},
   "outputs": [],
   "source": []
  },
  {
   "cell_type": "code",
   "execution_count": null,
   "metadata": {},
   "outputs": [],
   "source": []
  },
  {
   "cell_type": "markdown",
   "metadata": {},
   "source": [
    "## Pruebas con DataFrames"
   ]
  },
  {
   "cell_type": "code",
   "execution_count": 161,
   "metadata": {},
   "outputs": [
    {
     "data": {
      "text/html": [
       "<table class=\"data-frame\"><thead><tr><th></th><th>exp</th><th>edad</th></tr><tr><th></th><th>Int64</th><th>Int64</th></tr></thead><tbody><p>3 rows × 2 columns</p><tr><th>1</th><td>3</td><td>25</td></tr><tr><th>2</th><td>5</td><td>30</td></tr><tr><th>3</th><td>6</td><td>42</td></tr></tbody></table>"
      ],
      "text/latex": [
       "\\begin{tabular}{r|cc}\n",
       "\t& exp & edad\\\\\n",
       "\t\\hline\n",
       "\t& Int64 & Int64\\\\\n",
       "\t\\hline\n",
       "\t1 & 3 & 25 \\\\\n",
       "\t2 & 5 & 30 \\\\\n",
       "\t3 & 6 & 42 \\\\\n",
       "\\end{tabular}\n"
      ],
      "text/plain": [
       "3×2 DataFrame\n",
       "│ Row │ exp   │ edad  │\n",
       "│     │ \u001b[90mInt64\u001b[39m │ \u001b[90mInt64\u001b[39m │\n",
       "├─────┼───────┼───────┤\n",
       "│ 1   │ 3     │ 25    │\n",
       "│ 2   │ 5     │ 30    │\n",
       "│ 3   │ 6     │ 42    │"
      ]
     },
     "execution_count": 161,
     "metadata": {},
     "output_type": "execute_result"
    }
   ],
   "source": [
    "using DataFrames\n",
    "h = 0.01 # pequeño cambio para la derivada\n",
    "lr = 0.001 # learning rate\n",
    "\n",
    "## DATOS ##\n",
    "# Años de experiencia\n",
    "x = [3, 5, 6]\n",
    "# edad\n",
    "z = [25, 30, 42]\n",
    "\n",
    "df = DataFrame(exp=x, edad=z)\n",
    "\n",
    "# Salario en miles\n",
    "y = [10, 14, 17]\n",
    "# Cantidad de registros\n",
    "n = 3\n",
    "\n",
    "# Inicializacion de parametros\n",
    "w1 = 2\n",
    "w2 = 3\n",
    "bias = 4\n",
    "v = [w1, w2, bias]\n",
    "df"
   ]
  },
  {
   "cell_type": "code",
   "execution_count": 162,
   "metadata": {},
   "outputs": [
    {
     "data": {
      "text/plain": [
       "3"
      ]
     },
     "execution_count": 162,
     "metadata": {},
     "output_type": "execute_result"
    }
   ],
   "source": [
    "size(df, 1)"
   ]
  },
  {
   "cell_type": "code",
   "execution_count": 163,
   "metadata": {},
   "outputs": [
    {
     "data": {
      "text/html": [
       "<p>DataFrameRow (2 columns)</p><table class=\"data-frame\"><thead><tr><th></th><th>exp</th><th>edad</th></tr><tr><th></th><th>Int64</th><th>Int64</th></tr></thead><tbody><tr><th>1</th><td>3</td><td>25</td></tr></tbody></table>"
      ],
      "text/latex": [
       "\\begin{tabular}{r|cc}\n",
       "\t& exp & edad\\\\\n",
       "\t\\hline\n",
       "\t& Int64 & Int64\\\\\n",
       "\t\\hline\n",
       "\t1 & 3 & 25 \\\\\n",
       "\\end{tabular}\n"
      ],
      "text/plain": [
       "DataFrameRow\n",
       "│ Row │ exp   │ edad  │\n",
       "│     │ \u001b[90mInt64\u001b[39m │ \u001b[90mInt64\u001b[39m │\n",
       "├─────┼───────┼───────┤\n",
       "│ 1   │ 3     │ 25    │"
      ]
     },
     "execution_count": 163,
     "metadata": {},
     "output_type": "execute_result"
    }
   ],
   "source": [
    "df[1, :]"
   ]
  },
  {
   "cell_type": "code",
   "execution_count": 164,
   "metadata": {},
   "outputs": [
    {
     "data": {
      "text/plain": [
       "2"
      ]
     },
     "execution_count": 164,
     "metadata": {},
     "output_type": "execute_result"
    }
   ],
   "source": [
    "length(df[1, :])"
   ]
  },
  {
   "cell_type": "markdown",
   "metadata": {},
   "source": []
  }
 ],
 "metadata": {
  "kernelspec": {
   "display_name": "Julia 1.2.0",
   "language": "julia",
   "name": "julia-1.2"
  },
  "language_info": {
   "file_extension": ".jl",
   "mimetype": "application/julia",
   "name": "julia",
   "version": "1.2.0"
  }
 },
 "nbformat": 4,
 "nbformat_minor": 4
}
